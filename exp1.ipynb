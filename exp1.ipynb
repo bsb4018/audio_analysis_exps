{
 "cells": [
  {
   "cell_type": "code",
   "execution_count": 1,
   "metadata": {},
   "outputs": [],
   "source": [
    "import pandas as pd\n",
    "import os\n",
    "import numpy as np\n",
    "import IPython.display as ipd\n",
    "import librosa\n",
    "import librosa.display\n",
    "import matplotlib.pyplot as plt\n",
    "%matplotlib inline"
   ]
  },
  {
   "cell_type": "code",
   "execution_count": null,
   "metadata": {},
   "outputs": [],
   "source": [
    "# Download dataset from \"https://www.kaggle.com/datasets/nasrulhakim86/coughvid-wav\"\n",
    "# Extract it and add the location paths"
   ]
  },
  {
   "cell_type": "code",
   "execution_count": 2,
   "metadata": {},
   "outputs": [],
   "source": [
    "audio_dataset_path = 'D:/work3/Omdena/NewDelhi_Chapter/data/archive/public_dataset/'\n",
    "metadata_file_path = 'D:/work3/Omdena/NewDelhi_Chapter/data/archive/public_dataset/metadata_compiled.csv'"
   ]
  },
  {
   "cell_type": "code",
   "execution_count": 3,
   "metadata": {},
   "outputs": [
    {
     "data": {
      "text/html": [
       "<div>\n",
       "<style scoped>\n",
       "    .dataframe tbody tr th:only-of-type {\n",
       "        vertical-align: middle;\n",
       "    }\n",
       "\n",
       "    .dataframe tbody tr th {\n",
       "        vertical-align: top;\n",
       "    }\n",
       "\n",
       "    .dataframe thead th {\n",
       "        text-align: right;\n",
       "    }\n",
       "</style>\n",
       "<table border=\"1\" class=\"dataframe\">\n",
       "  <thead>\n",
       "    <tr style=\"text-align: right;\">\n",
       "      <th></th>\n",
       "      <th>uuid</th>\n",
       "      <th>datetime</th>\n",
       "      <th>cough_detected</th>\n",
       "      <th>SNR</th>\n",
       "      <th>latitude</th>\n",
       "      <th>longitude</th>\n",
       "      <th>age</th>\n",
       "      <th>gender</th>\n",
       "      <th>respiratory_condition</th>\n",
       "      <th>fever_muscle_pain</th>\n",
       "      <th>...</th>\n",
       "      <th>quality_4</th>\n",
       "      <th>cough_type_4</th>\n",
       "      <th>dyspnea_4</th>\n",
       "      <th>wheezing_4</th>\n",
       "      <th>stridor_4</th>\n",
       "      <th>choking_4</th>\n",
       "      <th>congestion_4</th>\n",
       "      <th>nothing_4</th>\n",
       "      <th>diagnosis_4</th>\n",
       "      <th>severity_4</th>\n",
       "    </tr>\n",
       "  </thead>\n",
       "  <tbody>\n",
       "    <tr>\n",
       "      <th>0</th>\n",
       "      <td>00014dcc-0f06-4c27-8c7b-737b18a2cf4c</td>\n",
       "      <td>2020-11-25T18:58:50.488301+00:00</td>\n",
       "      <td>0.0155</td>\n",
       "      <td>7.326171</td>\n",
       "      <td>48.9</td>\n",
       "      <td>2.4</td>\n",
       "      <td>NaN</td>\n",
       "      <td>NaN</td>\n",
       "      <td>NaN</td>\n",
       "      <td>NaN</td>\n",
       "      <td>...</td>\n",
       "      <td>NaN</td>\n",
       "      <td>NaN</td>\n",
       "      <td>NaN</td>\n",
       "      <td>NaN</td>\n",
       "      <td>NaN</td>\n",
       "      <td>NaN</td>\n",
       "      <td>NaN</td>\n",
       "      <td>NaN</td>\n",
       "      <td>NaN</td>\n",
       "      <td>NaN</td>\n",
       "    </tr>\n",
       "    <tr>\n",
       "      <th>1</th>\n",
       "      <td>00039425-7f3a-42aa-ac13-834aaa2b6b92</td>\n",
       "      <td>2020-04-13T21:30:59.801831+00:00</td>\n",
       "      <td>0.9609</td>\n",
       "      <td>16.151433</td>\n",
       "      <td>31.3</td>\n",
       "      <td>34.8</td>\n",
       "      <td>15.0</td>\n",
       "      <td>male</td>\n",
       "      <td>False</td>\n",
       "      <td>False</td>\n",
       "      <td>...</td>\n",
       "      <td>NaN</td>\n",
       "      <td>NaN</td>\n",
       "      <td>NaN</td>\n",
       "      <td>NaN</td>\n",
       "      <td>NaN</td>\n",
       "      <td>NaN</td>\n",
       "      <td>NaN</td>\n",
       "      <td>NaN</td>\n",
       "      <td>NaN</td>\n",
       "      <td>NaN</td>\n",
       "    </tr>\n",
       "    <tr>\n",
       "      <th>2</th>\n",
       "      <td>0007c6f1-5441-40e6-9aaf-a761d8f2da3b</td>\n",
       "      <td>2020-10-18T15:38:38.205870+00:00</td>\n",
       "      <td>0.1643</td>\n",
       "      <td>16.217201</td>\n",
       "      <td>NaN</td>\n",
       "      <td>NaN</td>\n",
       "      <td>46.0</td>\n",
       "      <td>female</td>\n",
       "      <td>False</td>\n",
       "      <td>False</td>\n",
       "      <td>...</td>\n",
       "      <td>NaN</td>\n",
       "      <td>NaN</td>\n",
       "      <td>NaN</td>\n",
       "      <td>NaN</td>\n",
       "      <td>NaN</td>\n",
       "      <td>NaN</td>\n",
       "      <td>NaN</td>\n",
       "      <td>NaN</td>\n",
       "      <td>NaN</td>\n",
       "      <td>NaN</td>\n",
       "    </tr>\n",
       "    <tr>\n",
       "      <th>3</th>\n",
       "      <td>0009eb28-d8be-4dc1-92bb-907e53bc5c7a</td>\n",
       "      <td>2020-04-12T04:02:18.159383+00:00</td>\n",
       "      <td>0.9301</td>\n",
       "      <td>20.146058</td>\n",
       "      <td>40.0</td>\n",
       "      <td>-75.1</td>\n",
       "      <td>34.0</td>\n",
       "      <td>male</td>\n",
       "      <td>True</td>\n",
       "      <td>False</td>\n",
       "      <td>...</td>\n",
       "      <td>NaN</td>\n",
       "      <td>NaN</td>\n",
       "      <td>NaN</td>\n",
       "      <td>NaN</td>\n",
       "      <td>NaN</td>\n",
       "      <td>NaN</td>\n",
       "      <td>NaN</td>\n",
       "      <td>NaN</td>\n",
       "      <td>NaN</td>\n",
       "      <td>NaN</td>\n",
       "    </tr>\n",
       "    <tr>\n",
       "      <th>4</th>\n",
       "      <td>0012c608-33d0-4ef7-bde3-75a0b1a0024e</td>\n",
       "      <td>2020-04-15T01:03:59.029326+00:00</td>\n",
       "      <td>0.0482</td>\n",
       "      <td>0.000000</td>\n",
       "      <td>-16.5</td>\n",
       "      <td>-71.5</td>\n",
       "      <td>NaN</td>\n",
       "      <td>NaN</td>\n",
       "      <td>NaN</td>\n",
       "      <td>NaN</td>\n",
       "      <td>...</td>\n",
       "      <td>NaN</td>\n",
       "      <td>NaN</td>\n",
       "      <td>NaN</td>\n",
       "      <td>NaN</td>\n",
       "      <td>NaN</td>\n",
       "      <td>NaN</td>\n",
       "      <td>NaN</td>\n",
       "      <td>NaN</td>\n",
       "      <td>NaN</td>\n",
       "      <td>NaN</td>\n",
       "    </tr>\n",
       "  </tbody>\n",
       "</table>\n",
       "<p>5 rows × 51 columns</p>\n",
       "</div>"
      ],
      "text/plain": [
       "                                   uuid                          datetime  \\\n",
       "0  00014dcc-0f06-4c27-8c7b-737b18a2cf4c  2020-11-25T18:58:50.488301+00:00   \n",
       "1  00039425-7f3a-42aa-ac13-834aaa2b6b92  2020-04-13T21:30:59.801831+00:00   \n",
       "2  0007c6f1-5441-40e6-9aaf-a761d8f2da3b  2020-10-18T15:38:38.205870+00:00   \n",
       "3  0009eb28-d8be-4dc1-92bb-907e53bc5c7a  2020-04-12T04:02:18.159383+00:00   \n",
       "4  0012c608-33d0-4ef7-bde3-75a0b1a0024e  2020-04-15T01:03:59.029326+00:00   \n",
       "\n",
       "   cough_detected        SNR  latitude  longitude   age  gender  \\\n",
       "0          0.0155   7.326171      48.9        2.4   NaN     NaN   \n",
       "1          0.9609  16.151433      31.3       34.8  15.0    male   \n",
       "2          0.1643  16.217201       NaN        NaN  46.0  female   \n",
       "3          0.9301  20.146058      40.0      -75.1  34.0    male   \n",
       "4          0.0482   0.000000     -16.5      -71.5   NaN     NaN   \n",
       "\n",
       "  respiratory_condition fever_muscle_pain  ... quality_4 cough_type_4  \\\n",
       "0                   NaN               NaN  ...       NaN          NaN   \n",
       "1                 False             False  ...       NaN          NaN   \n",
       "2                 False             False  ...       NaN          NaN   \n",
       "3                  True             False  ...       NaN          NaN   \n",
       "4                   NaN               NaN  ...       NaN          NaN   \n",
       "\n",
       "  dyspnea_4 wheezing_4 stridor_4 choking_4 congestion_4 nothing_4 diagnosis_4  \\\n",
       "0       NaN        NaN       NaN       NaN          NaN       NaN         NaN   \n",
       "1       NaN        NaN       NaN       NaN          NaN       NaN         NaN   \n",
       "2       NaN        NaN       NaN       NaN          NaN       NaN         NaN   \n",
       "3       NaN        NaN       NaN       NaN          NaN       NaN         NaN   \n",
       "4       NaN        NaN       NaN       NaN          NaN       NaN         NaN   \n",
       "\n",
       "  severity_4  \n",
       "0        NaN  \n",
       "1        NaN  \n",
       "2        NaN  \n",
       "3        NaN  \n",
       "4        NaN  \n",
       "\n",
       "[5 rows x 51 columns]"
      ]
     },
     "execution_count": 3,
     "metadata": {},
     "output_type": "execute_result"
    }
   ],
   "source": [
    "metadf = pd.read_csv(metadata_file_path)\n",
    "metadf.head()"
   ]
  },
  {
   "cell_type": "code",
   "execution_count": 4,
   "metadata": {},
   "outputs": [
    {
     "name": "stdout",
     "output_type": "stream",
     "text": [
      "Index(['uuid', 'datetime', 'cough_detected', 'SNR', 'latitude', 'longitude',\n",
      "       'age', 'gender', 'respiratory_condition', 'fever_muscle_pain', 'status',\n",
      "       'quality_1', 'cough_type_1', 'dyspnea_1', 'wheezing_1', 'stridor_1',\n",
      "       'choking_1', 'congestion_1', 'nothing_1', 'diagnosis_1', 'severity_1',\n",
      "       'quality_2', 'cough_type_2', 'dyspnea_2', 'wheezing_2', 'stridor_2',\n",
      "       'choking_2', 'congestion_2', 'nothing_2', 'diagnosis_2', 'severity_2',\n",
      "       'quality_3', 'cough_type_3', 'dyspnea_3', 'wheezing_3', 'stridor_3',\n",
      "       'choking_3', 'congestion_3', 'nothing_3', 'diagnosis_3', 'severity_3',\n",
      "       'quality_4', 'cough_type_4', 'dyspnea_4', 'wheezing_4', 'stridor_4',\n",
      "       'choking_4', 'congestion_4', 'nothing_4', 'diagnosis_4', 'severity_4'],\n",
      "      dtype='object')\n"
     ]
    }
   ],
   "source": [
    "print(metadf.columns)"
   ]
  },
  {
   "cell_type": "code",
   "execution_count": 5,
   "metadata": {},
   "outputs": [
    {
     "data": {
      "text/plain": [
       "healthy        12479\n",
       "symptomatic     2590\n",
       "COVID-19        1155\n",
       "Name: status, dtype: int64"
      ]
     },
     "execution_count": 5,
     "metadata": {},
     "output_type": "execute_result"
    }
   ],
   "source": [
    "metadf['status'].value_counts()"
   ]
  },
  {
   "cell_type": "code",
   "execution_count": 310,
   "metadata": {},
   "outputs": [
    {
     "data": {
      "text/plain": [
       "False    13403\n",
       "True      2821\n",
       "Name: respiratory_condition, dtype: int64"
      ]
     },
     "execution_count": 310,
     "metadata": {},
     "output_type": "execute_result"
    }
   ],
   "source": [
    "#metadf['respiratory_condition'].value_counts()"
   ]
  },
  {
   "cell_type": "code",
   "execution_count": 311,
   "metadata": {},
   "outputs": [
    {
     "data": {
      "text/plain": [
       "False    14296\n",
       "True      1928\n",
       "Name: fever_muscle_pain, dtype: int64"
      ]
     },
     "execution_count": 311,
     "metadata": {},
     "output_type": "execute_result"
    }
   ],
   "source": [
    "#metadf['fever_muscle_pain'].value_counts()"
   ]
  },
  {
   "cell_type": "code",
   "execution_count": 312,
   "metadata": {},
   "outputs": [
    {
     "data": {
      "text/plain": [
       "1.0000    2816\n",
       "0.0000     106\n",
       "0.9956      55\n",
       "0.9958      52\n",
       "0.9955      51\n",
       "          ... \n",
       "0.1348       1\n",
       "0.0027       1\n",
       "0.1947       1\n",
       "0.4124       1\n",
       "0.5257       1\n",
       "Name: cough_detected, Length: 7212, dtype: int64"
      ]
     },
     "execution_count": 312,
     "metadata": {},
     "output_type": "execute_result"
    }
   ],
   "source": [
    "#metadf['cough_detected'].value_counts()"
   ]
  },
  {
   "cell_type": "code",
   "execution_count": 6,
   "metadata": {},
   "outputs": [],
   "source": [
    "metadf2 = metadf[((metadf['cough_detected'] > 0.99) & (metadf['status'] == 'healthy')) |\n",
    "                 ((metadf['cough_detected'] > 0) & (metadf['status'] == 'COVID-19')) |\n",
    "                 ((metadf['cough_detected'] > 0) & (metadf['status'] == 'symptomatic'))]"
   ]
  },
  {
   "cell_type": "code",
   "execution_count": 369,
   "metadata": {},
   "outputs": [],
   "source": [
    "# This would create a bit more balanced dataset\n",
    "'''\n",
    "metadf2 = metadf[((metadf['cough_detected'] > 0.996) & (metadf['status'] == 'healthy')) |\n",
    "                 ((metadf['cough_detected'] > 0.5) & (metadf['status'] == 'COVID-19')) |\n",
    "                 ((metadf['cough_detected'] > 0.98) & (metadf['status'] == 'symptomatic'))]\n",
    "'''"
   ]
  },
  {
   "cell_type": "code",
   "execution_count": 7,
   "metadata": {},
   "outputs": [
    {
     "data": {
      "text/plain": [
       "healthy        2761\n",
       "symptomatic    2575\n",
       "COVID-19       1133\n",
       "Name: status, dtype: int64"
      ]
     },
     "execution_count": 7,
     "metadata": {},
     "output_type": "execute_result"
    }
   ],
   "source": [
    "metadf2['status'].value_counts()"
   ]
  },
  {
   "cell_type": "code",
   "execution_count": 389,
   "metadata": {},
   "outputs": [
    {
     "data": {
      "text/plain": [
       "1.0000    2500\n",
       "0.9958      42\n",
       "0.9955      42\n",
       "0.9936      39\n",
       "0.9956      38\n",
       "          ... \n",
       "0.8955       1\n",
       "0.0260       1\n",
       "0.5336       1\n",
       "0.3786       1\n",
       "0.5257       1\n",
       "Name: cough_detected, Length: 1581, dtype: int64"
      ]
     },
     "execution_count": 389,
     "metadata": {},
     "output_type": "execute_result"
    }
   ],
   "source": [
    "#metadf2['cough_detected'].value_counts()"
   ]
  },
  {
   "cell_type": "code",
   "execution_count": 316,
   "metadata": {},
   "outputs": [
    {
     "data": {
      "text/plain": [
       "False    2878\n",
       "True      982\n",
       "Name: respiratory_condition, dtype: int64"
      ]
     },
     "execution_count": 316,
     "metadata": {},
     "output_type": "execute_result"
    }
   ],
   "source": [
    "#metadf2['respiratory_condition'].value_counts()"
   ]
  },
  {
   "cell_type": "code",
   "execution_count": 317,
   "metadata": {},
   "outputs": [
    {
     "data": {
      "text/plain": [
       "False    3095\n",
       "True      765\n",
       "Name: fever_muscle_pain, dtype: int64"
      ]
     },
     "execution_count": 317,
     "metadata": {},
     "output_type": "execute_result"
    }
   ],
   "source": [
    "#metadf2['fever_muscle_pain'].value_counts()"
   ]
  },
  {
   "cell_type": "code",
   "execution_count": 319,
   "metadata": {},
   "outputs": [
    {
     "data": {
      "text/plain": [
       "ok      521\n",
       "poor    137\n",
       "good     31\n",
       "Name: quality_1, dtype: int64"
      ]
     },
     "execution_count": 319,
     "metadata": {},
     "output_type": "execute_result"
    }
   ],
   "source": [
    "#metadf2['quality_1'].value_counts()"
   ]
  },
  {
   "cell_type": "code",
   "execution_count": 320,
   "metadata": {},
   "outputs": [
    {
     "data": {
      "text/plain": [
       "dry        368\n",
       "unknown    263\n",
       "wet         58\n",
       "Name: cough_type_1, dtype: int64"
      ]
     },
     "execution_count": 320,
     "metadata": {},
     "output_type": "execute_result"
    }
   ],
   "source": [
    "#metadf2['cough_type_1'].value_counts()"
   ]
  },
  {
   "cell_type": "code",
   "execution_count": 321,
   "metadata": {},
   "outputs": [
    {
     "data": {
      "text/plain": [
       "False    685\n",
       "True       4\n",
       "Name: dyspnea_1, dtype: int64"
      ]
     },
     "execution_count": 321,
     "metadata": {},
     "output_type": "execute_result"
    }
   ],
   "source": [
    "#metadf2['dyspnea_1'].value_counts()"
   ]
  },
  {
   "cell_type": "code",
   "execution_count": 322,
   "metadata": {},
   "outputs": [
    {
     "data": {
      "text/plain": [
       "False    640\n",
       "True      49\n",
       "Name: wheezing_1, dtype: int64"
      ]
     },
     "execution_count": 322,
     "metadata": {},
     "output_type": "execute_result"
    }
   ],
   "source": [
    "#metadf2['wheezing_1'].value_counts()"
   ]
  },
  {
   "cell_type": "code",
   "execution_count": 323,
   "metadata": {},
   "outputs": [
    {
     "data": {
      "text/plain": [
       "False    689\n",
       "Name: stridor_1, dtype: int64"
      ]
     },
     "execution_count": 323,
     "metadata": {},
     "output_type": "execute_result"
    }
   ],
   "source": [
    "#metadf2['stridor_1'].value_counts()"
   ]
  },
  {
   "cell_type": "code",
   "execution_count": 324,
   "metadata": {},
   "outputs": [
    {
     "data": {
      "text/plain": [
       "False    688\n",
       "True       1\n",
       "Name: choking_1, dtype: int64"
      ]
     },
     "execution_count": 324,
     "metadata": {},
     "output_type": "execute_result"
    }
   ],
   "source": [
    "#metadf2['choking_1'].value_counts()"
   ]
  },
  {
   "cell_type": "code",
   "execution_count": 325,
   "metadata": {},
   "outputs": [
    {
     "data": {
      "text/plain": [
       "False    675\n",
       "True      14\n",
       "Name: congestion_1, dtype: int64"
      ]
     },
     "execution_count": 325,
     "metadata": {},
     "output_type": "execute_result"
    }
   ],
   "source": [
    "#metadf2['congestion_1'].value_counts()"
   ]
  },
  {
   "cell_type": "code",
   "execution_count": 326,
   "metadata": {},
   "outputs": [
    {
     "data": {
      "text/plain": [
       "True     625\n",
       "False     64\n",
       "Name: nothing_1, dtype: int64"
      ]
     },
     "execution_count": 326,
     "metadata": {},
     "output_type": "execute_result"
    }
   ],
   "source": [
    "#metadf2['nothing_1'].value_counts()"
   ]
  },
  {
   "cell_type": "code",
   "execution_count": 327,
   "metadata": {},
   "outputs": [
    {
     "data": {
      "text/plain": [
       "COVID-19               244\n",
       "healthy_cough          207\n",
       "lower_infection        204\n",
       "upper_infection         20\n",
       "obstructive_disease     14\n",
       "Name: diagnosis_1, dtype: int64"
      ]
     },
     "execution_count": 327,
     "metadata": {},
     "output_type": "execute_result"
    }
   ],
   "source": [
    "#metadf2['diagnosis_1'].value_counts()"
   ]
  },
  {
   "cell_type": "code",
   "execution_count": 328,
   "metadata": {},
   "outputs": [
    {
     "data": {
      "text/plain": [
       "mild           447\n",
       "pseudocough    199\n",
       "severe          31\n",
       "unknown         12\n",
       "Name: severity_1, dtype: int64"
      ]
     },
     "execution_count": 328,
     "metadata": {},
     "output_type": "execute_result"
    }
   ],
   "source": [
    "#metadf2['severity_1'].value_counts()"
   ]
  },
  {
   "cell_type": "code",
   "execution_count": 8,
   "metadata": {},
   "outputs": [],
   "source": [
    "newdf = metadf2"
   ]
  },
  {
   "cell_type": "code",
   "execution_count": 272,
   "metadata": {},
   "outputs": [],
   "source": [
    "'''\n",
    "newdf = metadf[(((metadf['cough_detected'] > 0.5) & (metadf['status'] == 'healthy')) \n",
    "                & (((metadf['quality_1'] == 'good') | (metadf['quality_1'] == 'ok')) |\n",
    "                 ((metadf['quality_2'] == 'good') | (metadf['quality_2'] == 'ok')) |\n",
    "                 ((metadf['quality_3'] == 'good') | (metadf['quality_3'] == 'ok')) |\n",
    "                 ((metadf['quality_4'] == 'good') | (metadf['quality_4'] == 'ok')))) \n",
    "                 |\n",
    "                 (((metadf['cough_detected'] > 0.5) & (metadf['status'] == 'symptomatic')) \n",
    "                & (((metadf['quality_1'] == 'good') | (metadf['quality_1'] == 'ok')) |\n",
    "                 ((metadf['quality_2'] == 'good') | (metadf['quality_2'] == 'ok')) |\n",
    "                 ((metadf['quality_3'] == 'good') | (metadf['quality_3'] == 'ok')) |\n",
    "                 ((metadf['quality_4'] == 'good') | (metadf['quality_4'] == 'ok'))))\n",
    "                 |\n",
    "                 ((metadf['cough_detected'] > 0) & (metadf['status'] == 'COVID-19'))]\n",
    "'''"
   ]
  },
  {
   "cell_type": "code",
   "execution_count": 9,
   "metadata": {},
   "outputs": [
    {
     "data": {
      "text/html": [
       "<div>\n",
       "<style scoped>\n",
       "    .dataframe tbody tr th:only-of-type {\n",
       "        vertical-align: middle;\n",
       "    }\n",
       "\n",
       "    .dataframe tbody tr th {\n",
       "        vertical-align: top;\n",
       "    }\n",
       "\n",
       "    .dataframe thead th {\n",
       "        text-align: right;\n",
       "    }\n",
       "</style>\n",
       "<table border=\"1\" class=\"dataframe\">\n",
       "  <thead>\n",
       "    <tr style=\"text-align: right;\">\n",
       "      <th></th>\n",
       "      <th>uuid</th>\n",
       "      <th>datetime</th>\n",
       "      <th>cough_detected</th>\n",
       "      <th>SNR</th>\n",
       "      <th>latitude</th>\n",
       "      <th>longitude</th>\n",
       "      <th>age</th>\n",
       "      <th>gender</th>\n",
       "      <th>respiratory_condition</th>\n",
       "      <th>fever_muscle_pain</th>\n",
       "      <th>...</th>\n",
       "      <th>quality_4</th>\n",
       "      <th>cough_type_4</th>\n",
       "      <th>dyspnea_4</th>\n",
       "      <th>wheezing_4</th>\n",
       "      <th>stridor_4</th>\n",
       "      <th>choking_4</th>\n",
       "      <th>congestion_4</th>\n",
       "      <th>nothing_4</th>\n",
       "      <th>diagnosis_4</th>\n",
       "      <th>severity_4</th>\n",
       "    </tr>\n",
       "  </thead>\n",
       "  <tbody>\n",
       "    <tr>\n",
       "      <th>5</th>\n",
       "      <td>001328dc-ea5d-4847-9ccf-c5aa2a3f2d0f</td>\n",
       "      <td>2020-04-13T22:23:06.997578+00:00</td>\n",
       "      <td>0.9968</td>\n",
       "      <td>13.146502</td>\n",
       "      <td>NaN</td>\n",
       "      <td>NaN</td>\n",
       "      <td>21.0</td>\n",
       "      <td>male</td>\n",
       "      <td>False</td>\n",
       "      <td>False</td>\n",
       "      <td>...</td>\n",
       "      <td>NaN</td>\n",
       "      <td>NaN</td>\n",
       "      <td>NaN</td>\n",
       "      <td>NaN</td>\n",
       "      <td>NaN</td>\n",
       "      <td>NaN</td>\n",
       "      <td>NaN</td>\n",
       "      <td>NaN</td>\n",
       "      <td>NaN</td>\n",
       "      <td>NaN</td>\n",
       "    </tr>\n",
       "    <tr>\n",
       "      <th>7</th>\n",
       "      <td>001d8e33-a4af-4edb-98ba-b03f891d9a6c</td>\n",
       "      <td>2020-05-13T01:27:42.552773+00:00</td>\n",
       "      <td>0.0306</td>\n",
       "      <td>12.713480</td>\n",
       "      <td>13.8</td>\n",
       "      <td>-89.6</td>\n",
       "      <td>NaN</td>\n",
       "      <td>female</td>\n",
       "      <td>False</td>\n",
       "      <td>True</td>\n",
       "      <td>...</td>\n",
       "      <td>NaN</td>\n",
       "      <td>NaN</td>\n",
       "      <td>NaN</td>\n",
       "      <td>NaN</td>\n",
       "      <td>NaN</td>\n",
       "      <td>NaN</td>\n",
       "      <td>NaN</td>\n",
       "      <td>NaN</td>\n",
       "      <td>NaN</td>\n",
       "      <td>NaN</td>\n",
       "    </tr>\n",
       "    <tr>\n",
       "      <th>12</th>\n",
       "      <td>0029d048-898a-4c70-89c7-0815cdcf7391</td>\n",
       "      <td>2020-07-16T03:01:55.059762+00:00</td>\n",
       "      <td>1.0000</td>\n",
       "      <td>9.624196</td>\n",
       "      <td>NaN</td>\n",
       "      <td>NaN</td>\n",
       "      <td>35.0</td>\n",
       "      <td>male</td>\n",
       "      <td>True</td>\n",
       "      <td>False</td>\n",
       "      <td>...</td>\n",
       "      <td>good</td>\n",
       "      <td>dry</td>\n",
       "      <td>False</td>\n",
       "      <td>False</td>\n",
       "      <td>False</td>\n",
       "      <td>False</td>\n",
       "      <td>False</td>\n",
       "      <td>True</td>\n",
       "      <td>upper_infection</td>\n",
       "      <td>mild</td>\n",
       "    </tr>\n",
       "    <tr>\n",
       "      <th>13</th>\n",
       "      <td>002d28bc-7806-4dfb-9c9b-afa8cb623cac</td>\n",
       "      <td>2020-04-16T22:10:24.107938+00:00</td>\n",
       "      <td>0.9959</td>\n",
       "      <td>35.641847</td>\n",
       "      <td>NaN</td>\n",
       "      <td>NaN</td>\n",
       "      <td>46.0</td>\n",
       "      <td>female</td>\n",
       "      <td>False</td>\n",
       "      <td>False</td>\n",
       "      <td>...</td>\n",
       "      <td>NaN</td>\n",
       "      <td>NaN</td>\n",
       "      <td>NaN</td>\n",
       "      <td>NaN</td>\n",
       "      <td>NaN</td>\n",
       "      <td>NaN</td>\n",
       "      <td>NaN</td>\n",
       "      <td>NaN</td>\n",
       "      <td>NaN</td>\n",
       "      <td>NaN</td>\n",
       "    </tr>\n",
       "    <tr>\n",
       "      <th>17</th>\n",
       "      <td>00357712-dd5a-4c0a-90a4-39f1f4b9d5fd</td>\n",
       "      <td>2020-04-10T12:48:17.554497+00:00</td>\n",
       "      <td>0.0576</td>\n",
       "      <td>0.000000</td>\n",
       "      <td>46.8</td>\n",
       "      <td>6.6</td>\n",
       "      <td>NaN</td>\n",
       "      <td>male</td>\n",
       "      <td>True</td>\n",
       "      <td>False</td>\n",
       "      <td>...</td>\n",
       "      <td>NaN</td>\n",
       "      <td>NaN</td>\n",
       "      <td>NaN</td>\n",
       "      <td>NaN</td>\n",
       "      <td>NaN</td>\n",
       "      <td>NaN</td>\n",
       "      <td>NaN</td>\n",
       "      <td>NaN</td>\n",
       "      <td>NaN</td>\n",
       "      <td>NaN</td>\n",
       "    </tr>\n",
       "    <tr>\n",
       "      <th>...</th>\n",
       "      <td>...</td>\n",
       "      <td>...</td>\n",
       "      <td>...</td>\n",
       "      <td>...</td>\n",
       "      <td>...</td>\n",
       "      <td>...</td>\n",
       "      <td>...</td>\n",
       "      <td>...</td>\n",
       "      <td>...</td>\n",
       "      <td>...</td>\n",
       "      <td>...</td>\n",
       "      <td>...</td>\n",
       "      <td>...</td>\n",
       "      <td>...</td>\n",
       "      <td>...</td>\n",
       "      <td>...</td>\n",
       "      <td>...</td>\n",
       "      <td>...</td>\n",
       "      <td>...</td>\n",
       "      <td>...</td>\n",
       "      <td>...</td>\n",
       "    </tr>\n",
       "    <tr>\n",
       "      <th>27534</th>\n",
       "      <td>ffd18a56-096d-40fc-9862-e5c5a8ca1fcd</td>\n",
       "      <td>2020-04-14T05:56:02.587585+00:00</td>\n",
       "      <td>1.0000</td>\n",
       "      <td>12.290065</td>\n",
       "      <td>46.5</td>\n",
       "      <td>6.6</td>\n",
       "      <td>25.0</td>\n",
       "      <td>female</td>\n",
       "      <td>False</td>\n",
       "      <td>False</td>\n",
       "      <td>...</td>\n",
       "      <td>ok</td>\n",
       "      <td>dry</td>\n",
       "      <td>False</td>\n",
       "      <td>False</td>\n",
       "      <td>False</td>\n",
       "      <td>False</td>\n",
       "      <td>False</td>\n",
       "      <td>True</td>\n",
       "      <td>COVID-19</td>\n",
       "      <td>mild</td>\n",
       "    </tr>\n",
       "    <tr>\n",
       "      <th>27539</th>\n",
       "      <td>ffe0658f-bade-4654-ad79-40a468aabb03</td>\n",
       "      <td>2020-04-14T01:58:32.200245+00:00</td>\n",
       "      <td>1.0000</td>\n",
       "      <td>21.960583</td>\n",
       "      <td>41.6</td>\n",
       "      <td>60.9</td>\n",
       "      <td>22.0</td>\n",
       "      <td>male</td>\n",
       "      <td>True</td>\n",
       "      <td>True</td>\n",
       "      <td>...</td>\n",
       "      <td>poor</td>\n",
       "      <td>unknown</td>\n",
       "      <td>False</td>\n",
       "      <td>False</td>\n",
       "      <td>False</td>\n",
       "      <td>False</td>\n",
       "      <td>False</td>\n",
       "      <td>False</td>\n",
       "      <td>NaN</td>\n",
       "      <td>unknown</td>\n",
       "    </tr>\n",
       "    <tr>\n",
       "      <th>27540</th>\n",
       "      <td>ffe13fcf-c5c2-4a6a-a9fc-e010f4f033c1</td>\n",
       "      <td>2020-04-13T21:08:50.708320+00:00</td>\n",
       "      <td>0.9485</td>\n",
       "      <td>9.966762</td>\n",
       "      <td>41.1</td>\n",
       "      <td>28.8</td>\n",
       "      <td>31.0</td>\n",
       "      <td>male</td>\n",
       "      <td>False</td>\n",
       "      <td>False</td>\n",
       "      <td>...</td>\n",
       "      <td>NaN</td>\n",
       "      <td>NaN</td>\n",
       "      <td>NaN</td>\n",
       "      <td>NaN</td>\n",
       "      <td>NaN</td>\n",
       "      <td>NaN</td>\n",
       "      <td>NaN</td>\n",
       "      <td>NaN</td>\n",
       "      <td>NaN</td>\n",
       "      <td>NaN</td>\n",
       "    </tr>\n",
       "    <tr>\n",
       "      <th>27542</th>\n",
       "      <td>ffedc843-bfc2-4ad6-a749-2bc86bdac84a</td>\n",
       "      <td>2020-06-05T03:41:37.481463+00:00</td>\n",
       "      <td>1.0000</td>\n",
       "      <td>33.661082</td>\n",
       "      <td>-34.5</td>\n",
       "      <td>-58.5</td>\n",
       "      <td>23.0</td>\n",
       "      <td>male</td>\n",
       "      <td>False</td>\n",
       "      <td>False</td>\n",
       "      <td>...</td>\n",
       "      <td>good</td>\n",
       "      <td>dry</td>\n",
       "      <td>False</td>\n",
       "      <td>False</td>\n",
       "      <td>False</td>\n",
       "      <td>False</td>\n",
       "      <td>False</td>\n",
       "      <td>True</td>\n",
       "      <td>healthy_cough</td>\n",
       "      <td>pseudocough</td>\n",
       "    </tr>\n",
       "    <tr>\n",
       "      <th>27546</th>\n",
       "      <td>fff3ff61-2387-4139-938b-539db01e6be5</td>\n",
       "      <td>2020-06-28T21:28:21.530881+00:00</td>\n",
       "      <td>0.5257</td>\n",
       "      <td>43.932829</td>\n",
       "      <td>51.6</td>\n",
       "      <td>-0.2</td>\n",
       "      <td>NaN</td>\n",
       "      <td>female</td>\n",
       "      <td>False</td>\n",
       "      <td>False</td>\n",
       "      <td>...</td>\n",
       "      <td>NaN</td>\n",
       "      <td>NaN</td>\n",
       "      <td>NaN</td>\n",
       "      <td>NaN</td>\n",
       "      <td>NaN</td>\n",
       "      <td>NaN</td>\n",
       "      <td>NaN</td>\n",
       "      <td>NaN</td>\n",
       "      <td>NaN</td>\n",
       "      <td>NaN</td>\n",
       "    </tr>\n",
       "  </tbody>\n",
       "</table>\n",
       "<p>6469 rows × 51 columns</p>\n",
       "</div>"
      ],
      "text/plain": [
       "                                       uuid                          datetime  \\\n",
       "5      001328dc-ea5d-4847-9ccf-c5aa2a3f2d0f  2020-04-13T22:23:06.997578+00:00   \n",
       "7      001d8e33-a4af-4edb-98ba-b03f891d9a6c  2020-05-13T01:27:42.552773+00:00   \n",
       "12     0029d048-898a-4c70-89c7-0815cdcf7391  2020-07-16T03:01:55.059762+00:00   \n",
       "13     002d28bc-7806-4dfb-9c9b-afa8cb623cac  2020-04-16T22:10:24.107938+00:00   \n",
       "17     00357712-dd5a-4c0a-90a4-39f1f4b9d5fd  2020-04-10T12:48:17.554497+00:00   \n",
       "...                                     ...                               ...   \n",
       "27534  ffd18a56-096d-40fc-9862-e5c5a8ca1fcd  2020-04-14T05:56:02.587585+00:00   \n",
       "27539  ffe0658f-bade-4654-ad79-40a468aabb03  2020-04-14T01:58:32.200245+00:00   \n",
       "27540  ffe13fcf-c5c2-4a6a-a9fc-e010f4f033c1  2020-04-13T21:08:50.708320+00:00   \n",
       "27542  ffedc843-bfc2-4ad6-a749-2bc86bdac84a  2020-06-05T03:41:37.481463+00:00   \n",
       "27546  fff3ff61-2387-4139-938b-539db01e6be5  2020-06-28T21:28:21.530881+00:00   \n",
       "\n",
       "       cough_detected        SNR  latitude  longitude   age  gender  \\\n",
       "5              0.9968  13.146502       NaN        NaN  21.0    male   \n",
       "7              0.0306  12.713480      13.8      -89.6   NaN  female   \n",
       "12             1.0000   9.624196       NaN        NaN  35.0    male   \n",
       "13             0.9959  35.641847       NaN        NaN  46.0  female   \n",
       "17             0.0576   0.000000      46.8        6.6   NaN    male   \n",
       "...               ...        ...       ...        ...   ...     ...   \n",
       "27534          1.0000  12.290065      46.5        6.6  25.0  female   \n",
       "27539          1.0000  21.960583      41.6       60.9  22.0    male   \n",
       "27540          0.9485   9.966762      41.1       28.8  31.0    male   \n",
       "27542          1.0000  33.661082     -34.5      -58.5  23.0    male   \n",
       "27546          0.5257  43.932829      51.6       -0.2   NaN  female   \n",
       "\n",
       "      respiratory_condition fever_muscle_pain  ... quality_4 cough_type_4  \\\n",
       "5                     False             False  ...       NaN          NaN   \n",
       "7                     False              True  ...       NaN          NaN   \n",
       "12                     True             False  ...      good          dry   \n",
       "13                    False             False  ...       NaN          NaN   \n",
       "17                     True             False  ...       NaN          NaN   \n",
       "...                     ...               ...  ...       ...          ...   \n",
       "27534                 False             False  ...        ok          dry   \n",
       "27539                  True              True  ...      poor      unknown   \n",
       "27540                 False             False  ...       NaN          NaN   \n",
       "27542                 False             False  ...      good          dry   \n",
       "27546                 False             False  ...       NaN          NaN   \n",
       "\n",
       "      dyspnea_4 wheezing_4 stridor_4 choking_4 congestion_4 nothing_4  \\\n",
       "5           NaN        NaN       NaN       NaN          NaN       NaN   \n",
       "7           NaN        NaN       NaN       NaN          NaN       NaN   \n",
       "12        False      False     False     False        False      True   \n",
       "13          NaN        NaN       NaN       NaN          NaN       NaN   \n",
       "17          NaN        NaN       NaN       NaN          NaN       NaN   \n",
       "...         ...        ...       ...       ...          ...       ...   \n",
       "27534     False      False     False     False        False      True   \n",
       "27539     False      False     False     False        False     False   \n",
       "27540       NaN        NaN       NaN       NaN          NaN       NaN   \n",
       "27542     False      False     False     False        False      True   \n",
       "27546       NaN        NaN       NaN       NaN          NaN       NaN   \n",
       "\n",
       "           diagnosis_4   severity_4  \n",
       "5                  NaN          NaN  \n",
       "7                  NaN          NaN  \n",
       "12     upper_infection         mild  \n",
       "13                 NaN          NaN  \n",
       "17                 NaN          NaN  \n",
       "...                ...          ...  \n",
       "27534         COVID-19         mild  \n",
       "27539              NaN      unknown  \n",
       "27540              NaN          NaN  \n",
       "27542    healthy_cough  pseudocough  \n",
       "27546              NaN          NaN  \n",
       "\n",
       "[6469 rows x 51 columns]"
      ]
     },
     "execution_count": 9,
     "metadata": {},
     "output_type": "execute_result"
    }
   ],
   "source": [
    "newdf"
   ]
  },
  {
   "cell_type": "code",
   "execution_count": 10,
   "metadata": {},
   "outputs": [
    {
     "data": {
      "text/plain": [
       "healthy        2761\n",
       "symptomatic    2575\n",
       "COVID-19       1133\n",
       "Name: status, dtype: int64"
      ]
     },
     "execution_count": 10,
     "metadata": {},
     "output_type": "execute_result"
    }
   ],
   "source": [
    "# This indicates we have a somewhat balanced dataset\n",
    "newdf['status'].value_counts()"
   ]
  },
  {
   "cell_type": "code",
   "execution_count": 11,
   "metadata": {},
   "outputs": [],
   "source": [
    "newdf = newdf.fillna(\"\")"
   ]
  },
  {
   "cell_type": "code",
   "execution_count": 12,
   "metadata": {},
   "outputs": [],
   "source": [
    "newdf.drop(newdf.loc[newdf['status']==\"\"].index, inplace=True)"
   ]
  },
  {
   "cell_type": "code",
   "execution_count": 13,
   "metadata": {},
   "outputs": [
    {
     "data": {
      "text/html": [
       "<div>\n",
       "<style scoped>\n",
       "    .dataframe tbody tr th:only-of-type {\n",
       "        vertical-align: middle;\n",
       "    }\n",
       "\n",
       "    .dataframe tbody tr th {\n",
       "        vertical-align: top;\n",
       "    }\n",
       "\n",
       "    .dataframe thead th {\n",
       "        text-align: right;\n",
       "    }\n",
       "</style>\n",
       "<table border=\"1\" class=\"dataframe\">\n",
       "  <thead>\n",
       "    <tr style=\"text-align: right;\">\n",
       "      <th></th>\n",
       "      <th>uuid</th>\n",
       "      <th>datetime</th>\n",
       "      <th>cough_detected</th>\n",
       "      <th>SNR</th>\n",
       "      <th>latitude</th>\n",
       "      <th>longitude</th>\n",
       "      <th>age</th>\n",
       "      <th>gender</th>\n",
       "      <th>respiratory_condition</th>\n",
       "      <th>fever_muscle_pain</th>\n",
       "      <th>...</th>\n",
       "      <th>quality_4</th>\n",
       "      <th>cough_type_4</th>\n",
       "      <th>dyspnea_4</th>\n",
       "      <th>wheezing_4</th>\n",
       "      <th>stridor_4</th>\n",
       "      <th>choking_4</th>\n",
       "      <th>congestion_4</th>\n",
       "      <th>nothing_4</th>\n",
       "      <th>diagnosis_4</th>\n",
       "      <th>severity_4</th>\n",
       "    </tr>\n",
       "  </thead>\n",
       "  <tbody>\n",
       "    <tr>\n",
       "      <th>5</th>\n",
       "      <td>001328dc-ea5d-4847-9ccf-c5aa2a3f2d0f</td>\n",
       "      <td>2020-04-13T22:23:06.997578+00:00</td>\n",
       "      <td>0.9968</td>\n",
       "      <td>13.146502</td>\n",
       "      <td></td>\n",
       "      <td></td>\n",
       "      <td>21.0</td>\n",
       "      <td>male</td>\n",
       "      <td>False</td>\n",
       "      <td>False</td>\n",
       "      <td>...</td>\n",
       "      <td></td>\n",
       "      <td></td>\n",
       "      <td></td>\n",
       "      <td></td>\n",
       "      <td></td>\n",
       "      <td></td>\n",
       "      <td></td>\n",
       "      <td></td>\n",
       "      <td></td>\n",
       "      <td></td>\n",
       "    </tr>\n",
       "    <tr>\n",
       "      <th>7</th>\n",
       "      <td>001d8e33-a4af-4edb-98ba-b03f891d9a6c</td>\n",
       "      <td>2020-05-13T01:27:42.552773+00:00</td>\n",
       "      <td>0.0306</td>\n",
       "      <td>12.713480</td>\n",
       "      <td>13.8</td>\n",
       "      <td>-89.6</td>\n",
       "      <td></td>\n",
       "      <td>female</td>\n",
       "      <td>False</td>\n",
       "      <td>True</td>\n",
       "      <td>...</td>\n",
       "      <td></td>\n",
       "      <td></td>\n",
       "      <td></td>\n",
       "      <td></td>\n",
       "      <td></td>\n",
       "      <td></td>\n",
       "      <td></td>\n",
       "      <td></td>\n",
       "      <td></td>\n",
       "      <td></td>\n",
       "    </tr>\n",
       "    <tr>\n",
       "      <th>12</th>\n",
       "      <td>0029d048-898a-4c70-89c7-0815cdcf7391</td>\n",
       "      <td>2020-07-16T03:01:55.059762+00:00</td>\n",
       "      <td>1.0000</td>\n",
       "      <td>9.624196</td>\n",
       "      <td></td>\n",
       "      <td></td>\n",
       "      <td>35.0</td>\n",
       "      <td>male</td>\n",
       "      <td>True</td>\n",
       "      <td>False</td>\n",
       "      <td>...</td>\n",
       "      <td>good</td>\n",
       "      <td>dry</td>\n",
       "      <td>False</td>\n",
       "      <td>False</td>\n",
       "      <td>False</td>\n",
       "      <td>False</td>\n",
       "      <td>False</td>\n",
       "      <td>True</td>\n",
       "      <td>upper_infection</td>\n",
       "      <td>mild</td>\n",
       "    </tr>\n",
       "    <tr>\n",
       "      <th>13</th>\n",
       "      <td>002d28bc-7806-4dfb-9c9b-afa8cb623cac</td>\n",
       "      <td>2020-04-16T22:10:24.107938+00:00</td>\n",
       "      <td>0.9959</td>\n",
       "      <td>35.641847</td>\n",
       "      <td></td>\n",
       "      <td></td>\n",
       "      <td>46.0</td>\n",
       "      <td>female</td>\n",
       "      <td>False</td>\n",
       "      <td>False</td>\n",
       "      <td>...</td>\n",
       "      <td></td>\n",
       "      <td></td>\n",
       "      <td></td>\n",
       "      <td></td>\n",
       "      <td></td>\n",
       "      <td></td>\n",
       "      <td></td>\n",
       "      <td></td>\n",
       "      <td></td>\n",
       "      <td></td>\n",
       "    </tr>\n",
       "    <tr>\n",
       "      <th>17</th>\n",
       "      <td>00357712-dd5a-4c0a-90a4-39f1f4b9d5fd</td>\n",
       "      <td>2020-04-10T12:48:17.554497+00:00</td>\n",
       "      <td>0.0576</td>\n",
       "      <td>0.000000</td>\n",
       "      <td>46.8</td>\n",
       "      <td>6.6</td>\n",
       "      <td></td>\n",
       "      <td>male</td>\n",
       "      <td>True</td>\n",
       "      <td>False</td>\n",
       "      <td>...</td>\n",
       "      <td></td>\n",
       "      <td></td>\n",
       "      <td></td>\n",
       "      <td></td>\n",
       "      <td></td>\n",
       "      <td></td>\n",
       "      <td></td>\n",
       "      <td></td>\n",
       "      <td></td>\n",
       "      <td></td>\n",
       "    </tr>\n",
       "    <tr>\n",
       "      <th>...</th>\n",
       "      <td>...</td>\n",
       "      <td>...</td>\n",
       "      <td>...</td>\n",
       "      <td>...</td>\n",
       "      <td>...</td>\n",
       "      <td>...</td>\n",
       "      <td>...</td>\n",
       "      <td>...</td>\n",
       "      <td>...</td>\n",
       "      <td>...</td>\n",
       "      <td>...</td>\n",
       "      <td>...</td>\n",
       "      <td>...</td>\n",
       "      <td>...</td>\n",
       "      <td>...</td>\n",
       "      <td>...</td>\n",
       "      <td>...</td>\n",
       "      <td>...</td>\n",
       "      <td>...</td>\n",
       "      <td>...</td>\n",
       "      <td>...</td>\n",
       "    </tr>\n",
       "    <tr>\n",
       "      <th>27534</th>\n",
       "      <td>ffd18a56-096d-40fc-9862-e5c5a8ca1fcd</td>\n",
       "      <td>2020-04-14T05:56:02.587585+00:00</td>\n",
       "      <td>1.0000</td>\n",
       "      <td>12.290065</td>\n",
       "      <td>46.5</td>\n",
       "      <td>6.6</td>\n",
       "      <td>25.0</td>\n",
       "      <td>female</td>\n",
       "      <td>False</td>\n",
       "      <td>False</td>\n",
       "      <td>...</td>\n",
       "      <td>ok</td>\n",
       "      <td>dry</td>\n",
       "      <td>False</td>\n",
       "      <td>False</td>\n",
       "      <td>False</td>\n",
       "      <td>False</td>\n",
       "      <td>False</td>\n",
       "      <td>True</td>\n",
       "      <td>COVID-19</td>\n",
       "      <td>mild</td>\n",
       "    </tr>\n",
       "    <tr>\n",
       "      <th>27539</th>\n",
       "      <td>ffe0658f-bade-4654-ad79-40a468aabb03</td>\n",
       "      <td>2020-04-14T01:58:32.200245+00:00</td>\n",
       "      <td>1.0000</td>\n",
       "      <td>21.960583</td>\n",
       "      <td>41.6</td>\n",
       "      <td>60.9</td>\n",
       "      <td>22.0</td>\n",
       "      <td>male</td>\n",
       "      <td>True</td>\n",
       "      <td>True</td>\n",
       "      <td>...</td>\n",
       "      <td>poor</td>\n",
       "      <td>unknown</td>\n",
       "      <td>False</td>\n",
       "      <td>False</td>\n",
       "      <td>False</td>\n",
       "      <td>False</td>\n",
       "      <td>False</td>\n",
       "      <td>False</td>\n",
       "      <td></td>\n",
       "      <td>unknown</td>\n",
       "    </tr>\n",
       "    <tr>\n",
       "      <th>27540</th>\n",
       "      <td>ffe13fcf-c5c2-4a6a-a9fc-e010f4f033c1</td>\n",
       "      <td>2020-04-13T21:08:50.708320+00:00</td>\n",
       "      <td>0.9485</td>\n",
       "      <td>9.966762</td>\n",
       "      <td>41.1</td>\n",
       "      <td>28.8</td>\n",
       "      <td>31.0</td>\n",
       "      <td>male</td>\n",
       "      <td>False</td>\n",
       "      <td>False</td>\n",
       "      <td>...</td>\n",
       "      <td></td>\n",
       "      <td></td>\n",
       "      <td></td>\n",
       "      <td></td>\n",
       "      <td></td>\n",
       "      <td></td>\n",
       "      <td></td>\n",
       "      <td></td>\n",
       "      <td></td>\n",
       "      <td></td>\n",
       "    </tr>\n",
       "    <tr>\n",
       "      <th>27542</th>\n",
       "      <td>ffedc843-bfc2-4ad6-a749-2bc86bdac84a</td>\n",
       "      <td>2020-06-05T03:41:37.481463+00:00</td>\n",
       "      <td>1.0000</td>\n",
       "      <td>33.661082</td>\n",
       "      <td>-34.5</td>\n",
       "      <td>-58.5</td>\n",
       "      <td>23.0</td>\n",
       "      <td>male</td>\n",
       "      <td>False</td>\n",
       "      <td>False</td>\n",
       "      <td>...</td>\n",
       "      <td>good</td>\n",
       "      <td>dry</td>\n",
       "      <td>False</td>\n",
       "      <td>False</td>\n",
       "      <td>False</td>\n",
       "      <td>False</td>\n",
       "      <td>False</td>\n",
       "      <td>True</td>\n",
       "      <td>healthy_cough</td>\n",
       "      <td>pseudocough</td>\n",
       "    </tr>\n",
       "    <tr>\n",
       "      <th>27546</th>\n",
       "      <td>fff3ff61-2387-4139-938b-539db01e6be5</td>\n",
       "      <td>2020-06-28T21:28:21.530881+00:00</td>\n",
       "      <td>0.5257</td>\n",
       "      <td>43.932829</td>\n",
       "      <td>51.6</td>\n",
       "      <td>-0.2</td>\n",
       "      <td></td>\n",
       "      <td>female</td>\n",
       "      <td>False</td>\n",
       "      <td>False</td>\n",
       "      <td>...</td>\n",
       "      <td></td>\n",
       "      <td></td>\n",
       "      <td></td>\n",
       "      <td></td>\n",
       "      <td></td>\n",
       "      <td></td>\n",
       "      <td></td>\n",
       "      <td></td>\n",
       "      <td></td>\n",
       "      <td></td>\n",
       "    </tr>\n",
       "  </tbody>\n",
       "</table>\n",
       "<p>6469 rows × 51 columns</p>\n",
       "</div>"
      ],
      "text/plain": [
       "                                       uuid                          datetime  \\\n",
       "5      001328dc-ea5d-4847-9ccf-c5aa2a3f2d0f  2020-04-13T22:23:06.997578+00:00   \n",
       "7      001d8e33-a4af-4edb-98ba-b03f891d9a6c  2020-05-13T01:27:42.552773+00:00   \n",
       "12     0029d048-898a-4c70-89c7-0815cdcf7391  2020-07-16T03:01:55.059762+00:00   \n",
       "13     002d28bc-7806-4dfb-9c9b-afa8cb623cac  2020-04-16T22:10:24.107938+00:00   \n",
       "17     00357712-dd5a-4c0a-90a4-39f1f4b9d5fd  2020-04-10T12:48:17.554497+00:00   \n",
       "...                                     ...                               ...   \n",
       "27534  ffd18a56-096d-40fc-9862-e5c5a8ca1fcd  2020-04-14T05:56:02.587585+00:00   \n",
       "27539  ffe0658f-bade-4654-ad79-40a468aabb03  2020-04-14T01:58:32.200245+00:00   \n",
       "27540  ffe13fcf-c5c2-4a6a-a9fc-e010f4f033c1  2020-04-13T21:08:50.708320+00:00   \n",
       "27542  ffedc843-bfc2-4ad6-a749-2bc86bdac84a  2020-06-05T03:41:37.481463+00:00   \n",
       "27546  fff3ff61-2387-4139-938b-539db01e6be5  2020-06-28T21:28:21.530881+00:00   \n",
       "\n",
       "       cough_detected        SNR latitude longitude   age  gender  \\\n",
       "5              0.9968  13.146502                     21.0    male   \n",
       "7              0.0306  12.713480     13.8     -89.6        female   \n",
       "12             1.0000   9.624196                     35.0    male   \n",
       "13             0.9959  35.641847                     46.0  female   \n",
       "17             0.0576   0.000000     46.8       6.6          male   \n",
       "...               ...        ...      ...       ...   ...     ...   \n",
       "27534          1.0000  12.290065     46.5       6.6  25.0  female   \n",
       "27539          1.0000  21.960583     41.6      60.9  22.0    male   \n",
       "27540          0.9485   9.966762     41.1      28.8  31.0    male   \n",
       "27542          1.0000  33.661082    -34.5     -58.5  23.0    male   \n",
       "27546          0.5257  43.932829     51.6      -0.2        female   \n",
       "\n",
       "       respiratory_condition  fever_muscle_pain  ... quality_4 cough_type_4  \\\n",
       "5                      False              False  ...                          \n",
       "7                      False               True  ...                          \n",
       "12                      True              False  ...      good          dry   \n",
       "13                     False              False  ...                          \n",
       "17                      True              False  ...                          \n",
       "...                      ...                ...  ...       ...          ...   \n",
       "27534                  False              False  ...        ok          dry   \n",
       "27539                   True               True  ...      poor      unknown   \n",
       "27540                  False              False  ...                          \n",
       "27542                  False              False  ...      good          dry   \n",
       "27546                  False              False  ...                          \n",
       "\n",
       "      dyspnea_4 wheezing_4 stridor_4 choking_4 congestion_4 nothing_4  \\\n",
       "5                                                                       \n",
       "7                                                                       \n",
       "12        False      False     False     False        False      True   \n",
       "13                                                                      \n",
       "17                                                                      \n",
       "...         ...        ...       ...       ...          ...       ...   \n",
       "27534     False      False     False     False        False      True   \n",
       "27539     False      False     False     False        False     False   \n",
       "27540                                                                   \n",
       "27542     False      False     False     False        False      True   \n",
       "27546                                                                   \n",
       "\n",
       "           diagnosis_4   severity_4  \n",
       "5                                    \n",
       "7                                    \n",
       "12     upper_infection         mild  \n",
       "13                                   \n",
       "17                                   \n",
       "...                ...          ...  \n",
       "27534         COVID-19         mild  \n",
       "27539                       unknown  \n",
       "27540                                \n",
       "27542    healthy_cough  pseudocough  \n",
       "27546                                \n",
       "\n",
       "[6469 rows x 51 columns]"
      ]
     },
     "execution_count": 13,
     "metadata": {},
     "output_type": "execute_result"
    }
   ],
   "source": [
    "newdf"
   ]
  },
  {
   "cell_type": "code",
   "execution_count": null,
   "metadata": {},
   "outputs": [],
   "source": []
  },
  {
   "cell_type": "code",
   "execution_count": 14,
   "metadata": {},
   "outputs": [],
   "source": [
    "from sklearn.preprocessing import StandardScaler\n",
    "from sklearn.preprocessing import scale\n",
    "def features_extractor(file_name):\n",
    "    audio, sample_rate = librosa.load(file_name)\n",
    "\n",
    "    mfccs_features = librosa.feature.mfcc(y=audio, sr=sample_rate, n_mfcc=120)\n",
    "    mfccs_scaled_features = np.mean(mfccs_features.T,axis=0)\n",
    "\n",
    "    mel_spectrogram = librosa.feature.melspectrogram(y=audio, sr=sample_rate, n_fft=2048, hop_length=512, n_mels=120)\n",
    "    mel_scaled_features = np.mean(mel_spectrogram.T,axis=0)\n",
    "\n",
    "    #stft = np.abs(librosa.stft(audio))\n",
    "    #chroma = librosa.feature.chroma_stft(S=stft, sr=sample_rate)\n",
    "    #chroma_scaled_features = np.mean(chroma.T,axis=0)\n",
    "\n",
    "\n",
    "    return mfccs_scaled_features, mel_scaled_features #, chroma_scaled_features\n",
    "    "
   ]
  },
  {
   "cell_type": "code",
   "execution_count": 15,
   "metadata": {},
   "outputs": [
    {
     "name": "stderr",
     "output_type": "stream",
     "text": [
      "6469it [11:11,  9.63it/s]\n"
     ]
    }
   ],
   "source": [
    "import numpy as np\n",
    "from tqdm import tqdm\n",
    "# Extract Mel Frequency Cepstral Coefficients and Mel Spectogram\n",
    "extracted_features=[]\n",
    "for index_num,row in tqdm(newdf.iterrows()):\n",
    "    file_name = os.path.join(audio_dataset_path,str(row[\"uuid\"])+\".wav\")\n",
    "    final_class_labels=row[\"status\"]\n",
    "    mfcc, melspec = features_extractor(file_name)\n",
    "    extracted_features.append([mfcc,melspec,final_class_labels])"
   ]
  },
  {
   "cell_type": "code",
   "execution_count": 16,
   "metadata": {},
   "outputs": [
    {
     "data": {
      "text/html": [
       "<div>\n",
       "<style scoped>\n",
       "    .dataframe tbody tr th:only-of-type {\n",
       "        vertical-align: middle;\n",
       "    }\n",
       "\n",
       "    .dataframe tbody tr th {\n",
       "        vertical-align: top;\n",
       "    }\n",
       "\n",
       "    .dataframe thead th {\n",
       "        text-align: right;\n",
       "    }\n",
       "</style>\n",
       "<table border=\"1\" class=\"dataframe\">\n",
       "  <thead>\n",
       "    <tr style=\"text-align: right;\">\n",
       "      <th></th>\n",
       "      <th>feature1</th>\n",
       "      <th>feature2</th>\n",
       "      <th>status</th>\n",
       "    </tr>\n",
       "  </thead>\n",
       "  <tbody>\n",
       "    <tr>\n",
       "      <th>0</th>\n",
       "      <td>[-519.8622, 26.079721, -28.713432, 7.9876924, ...</td>\n",
       "      <td>[0.0039322926, 0.004463251, 0.0053868056, 0.01...</td>\n",
       "      <td>healthy</td>\n",
       "    </tr>\n",
       "    <tr>\n",
       "      <th>1</th>\n",
       "      <td>[-517.534, 125.805275, -59.390606, -13.782511,...</td>\n",
       "      <td>[7.889548e-05, 0.00024454814, 0.0031558843, 0....</td>\n",
       "      <td>COVID-19</td>\n",
       "    </tr>\n",
       "    <tr>\n",
       "      <th>2</th>\n",
       "      <td>[-492.71045, 16.865747, -3.735841, -0.9161602,...</td>\n",
       "      <td>[0.038029645, 0.16992389, 0.6232339, 1.2242541...</td>\n",
       "      <td>symptomatic</td>\n",
       "    </tr>\n",
       "    <tr>\n",
       "      <th>3</th>\n",
       "      <td>[-507.23135, 19.040976, -16.899456, 5.4804497,...</td>\n",
       "      <td>[0.0047508236, 0.005179205, 0.02720949, 0.2381...</td>\n",
       "      <td>healthy</td>\n",
       "    </tr>\n",
       "    <tr>\n",
       "      <th>4</th>\n",
       "      <td>[-957.87195, -0.9061077, -0.47938585, -3.27202...</td>\n",
       "      <td>[4.0905026e-09, 7.621856e-09, 1.6527492e-08, 4...</td>\n",
       "      <td>COVID-19</td>\n",
       "    </tr>\n",
       "  </tbody>\n",
       "</table>\n",
       "</div>"
      ],
      "text/plain": [
       "                                            feature1  \\\n",
       "0  [-519.8622, 26.079721, -28.713432, 7.9876924, ...   \n",
       "1  [-517.534, 125.805275, -59.390606, -13.782511,...   \n",
       "2  [-492.71045, 16.865747, -3.735841, -0.9161602,...   \n",
       "3  [-507.23135, 19.040976, -16.899456, 5.4804497,...   \n",
       "4  [-957.87195, -0.9061077, -0.47938585, -3.27202...   \n",
       "\n",
       "                                            feature2       status  \n",
       "0  [0.0039322926, 0.004463251, 0.0053868056, 0.01...      healthy  \n",
       "1  [7.889548e-05, 0.00024454814, 0.0031558843, 0....     COVID-19  \n",
       "2  [0.038029645, 0.16992389, 0.6232339, 1.2242541...  symptomatic  \n",
       "3  [0.0047508236, 0.005179205, 0.02720949, 0.2381...      healthy  \n",
       "4  [4.0905026e-09, 7.621856e-09, 1.6527492e-08, 4...     COVID-19  "
      ]
     },
     "execution_count": 16,
     "metadata": {},
     "output_type": "execute_result"
    }
   ],
   "source": [
    "### converting extracted_features to Pandas dataframe\n",
    "extracted_features_df = pd.DataFrame(extracted_features,columns=['feature1','feature2','status'])\n",
    "extracted_features_df.head()"
   ]
  },
  {
   "cell_type": "code",
   "execution_count": 17,
   "metadata": {},
   "outputs": [
    {
     "data": {
      "text/plain": [
       "(6469, 3)"
      ]
     },
     "execution_count": 17,
     "metadata": {},
     "output_type": "execute_result"
    }
   ],
   "source": [
    "extracted_features_df.shape"
   ]
  },
  {
   "cell_type": "code",
   "execution_count": 18,
   "metadata": {},
   "outputs": [],
   "source": [
    "extracted_features_df.to_parquet(\"mfcc120_melspec120_coughvid.parquet\", index=False)"
   ]
  },
  {
   "cell_type": "code",
   "execution_count": 559,
   "metadata": {},
   "outputs": [],
   "source": [
    "### Split the dataset into independent and dependent dataset\n",
    "X1 = np.array(extracted_features_df['feature1'].tolist())\n",
    "X2 = np.array(extracted_features_df['feature2'].tolist())\n",
    "#X3 = np.array(extracted_features_df['feature3'].tolist())\n",
    "X = np.concatenate((X1, X2), axis=1)\n",
    "#X = np.concatenate((X, X3), axis=1)\n",
    "y = np.array(extracted_features_df['status'].tolist())"
   ]
  },
  {
   "cell_type": "code",
   "execution_count": 560,
   "metadata": {},
   "outputs": [
    {
     "data": {
      "text/plain": [
       "array([[-5.19862183e+02,  2.60797215e+01, -2.87134323e+01, ...,\n",
       "         2.13975389e-03,  1.58495027e-06,  3.80668652e-08],\n",
       "       [-5.17533997e+02,  1.25805275e+02, -5.93906059e+01, ...,\n",
       "         2.11742410e-08,  1.34256881e-08,  1.16596333e-08],\n",
       "       [-4.92710449e+02,  1.68657475e+01, -3.73584104e+00, ...,\n",
       "         2.09077857e-02,  3.38664725e-02,  2.81977672e-02],\n",
       "       ...,\n",
       "       [-4.77452209e+02,  5.04670677e+01, -2.13637428e+01, ...,\n",
       "         1.40618300e-03,  1.96169253e-06,  8.98386698e-09],\n",
       "       [-4.20832428e+02,  2.41599216e+01, -7.46264648e+00, ...,\n",
       "         2.24214557e-04,  2.08839452e-07,  2.12475992e-09],\n",
       "       [-4.48928497e+02,  3.12053547e+01, -5.50211754e+01, ...,\n",
       "         1.89691923e-06,  7.18571869e-09,  3.20166094e-09]], dtype=float32)"
      ]
     },
     "execution_count": 560,
     "metadata": {},
     "output_type": "execute_result"
    }
   ],
   "source": [
    "X"
   ]
  },
  {
   "cell_type": "code",
   "execution_count": 561,
   "metadata": {},
   "outputs": [
    {
     "data": {
      "text/plain": [
       "(6469, 120)"
      ]
     },
     "execution_count": 561,
     "metadata": {},
     "output_type": "execute_result"
    }
   ],
   "source": [
    "X.shape"
   ]
  },
  {
   "cell_type": "code",
   "execution_count": 562,
   "metadata": {},
   "outputs": [],
   "source": [
    "### Label Encoding\n",
    "y=np.array(pd.get_dummies(y))"
   ]
  },
  {
   "cell_type": "code",
   "execution_count": 563,
   "metadata": {},
   "outputs": [
    {
     "data": {
      "text/plain": [
       "(6469, 3)"
      ]
     },
     "execution_count": 563,
     "metadata": {},
     "output_type": "execute_result"
    }
   ],
   "source": [
    "y.shape"
   ]
  },
  {
   "cell_type": "code",
   "execution_count": 564,
   "metadata": {},
   "outputs": [],
   "source": [
    "### Train Test Split\n",
    "from sklearn.model_selection import train_test_split\n",
    "X_train,X_test,y_train,y_test=train_test_split(X,y,test_size=0.3,random_state=0)"
   ]
  },
  {
   "cell_type": "code",
   "execution_count": 565,
   "metadata": {},
   "outputs": [],
   "source": [
    "from sklearn.model_selection import train_test_split\n",
    "X_val,X_test,y_val,y_test=train_test_split(X_test,y_test,test_size=0.5,random_state=0)"
   ]
  },
  {
   "cell_type": "code",
   "execution_count": 566,
   "metadata": {},
   "outputs": [
    {
     "data": {
      "text/plain": [
       "array([[-4.5111914e+02,  4.7152843e+01, -7.9044811e-02, ...,\n",
       "         4.5060588e-04,  6.9456240e-07,  6.8873209e-09],\n",
       "       [-4.7834470e+02,  9.5170235e+01, -8.1451263e+00, ...,\n",
       "         5.7957467e-04,  2.0357261e-04,  1.7969159e-04],\n",
       "       [-3.7469168e+02,  4.0205624e+01, -1.5869018e+01, ...,\n",
       "         3.4840938e-03,  3.9176826e-05,  2.6130831e-05],\n",
       "       ...,\n",
       "       [-5.2719574e+02,  2.8273001e+01, -1.0320598e+01, ...,\n",
       "         5.8320387e-05,  3.7317598e-08,  4.2609130e-09],\n",
       "       [-4.9230304e+02,  5.6945549e+01, -4.4023633e+00, ...,\n",
       "         2.4517507e-07,  4.7476099e-09,  3.9509014e-09],\n",
       "       [-3.7632587e+02,  4.5872734e+01, -1.6520857e+01, ...,\n",
       "         9.0078957e-04,  1.7663888e-06,  7.1637470e-07]], dtype=float32)"
      ]
     },
     "execution_count": 566,
     "metadata": {},
     "output_type": "execute_result"
    }
   ],
   "source": [
    "X_train"
   ]
  },
  {
   "cell_type": "code",
   "execution_count": 567,
   "metadata": {},
   "outputs": [
    {
     "data": {
      "text/plain": [
       "array([[0, 1, 0],\n",
       "       [1, 0, 0],\n",
       "       [0, 0, 1],\n",
       "       ...,\n",
       "       [0, 0, 1],\n",
       "       [0, 1, 0],\n",
       "       [0, 0, 1]], dtype=uint8)"
      ]
     },
     "execution_count": 567,
     "metadata": {},
     "output_type": "execute_result"
    }
   ],
   "source": [
    "y"
   ]
  },
  {
   "cell_type": "code",
   "execution_count": 568,
   "metadata": {},
   "outputs": [
    {
     "data": {
      "text/plain": [
       "(4528, 120)"
      ]
     },
     "execution_count": 568,
     "metadata": {},
     "output_type": "execute_result"
    }
   ],
   "source": [
    "X_train.shape"
   ]
  },
  {
   "cell_type": "code",
   "execution_count": 569,
   "metadata": {},
   "outputs": [
    {
     "data": {
      "text/plain": [
       "(970, 120)"
      ]
     },
     "execution_count": 569,
     "metadata": {},
     "output_type": "execute_result"
    }
   ],
   "source": [
    "X_val.shape"
   ]
  },
  {
   "cell_type": "code",
   "execution_count": 570,
   "metadata": {},
   "outputs": [
    {
     "data": {
      "text/plain": [
       "(971, 120)"
      ]
     },
     "execution_count": 570,
     "metadata": {},
     "output_type": "execute_result"
    }
   ],
   "source": [
    "X_test.shape"
   ]
  },
  {
   "cell_type": "code",
   "execution_count": 571,
   "metadata": {},
   "outputs": [
    {
     "data": {
      "text/plain": [
       "(4528, 3)"
      ]
     },
     "execution_count": 571,
     "metadata": {},
     "output_type": "execute_result"
    }
   ],
   "source": [
    "y_train.shape"
   ]
  },
  {
   "cell_type": "code",
   "execution_count": 572,
   "metadata": {},
   "outputs": [
    {
     "data": {
      "text/plain": [
       "(970, 3)"
      ]
     },
     "execution_count": 572,
     "metadata": {},
     "output_type": "execute_result"
    }
   ],
   "source": [
    "y_val.shape"
   ]
  },
  {
   "cell_type": "code",
   "execution_count": 573,
   "metadata": {},
   "outputs": [
    {
     "data": {
      "text/plain": [
       "(971, 3)"
      ]
     },
     "execution_count": 573,
     "metadata": {},
     "output_type": "execute_result"
    }
   ],
   "source": [
    "y_test.shape"
   ]
  },
  {
   "cell_type": "code",
   "execution_count": null,
   "metadata": {},
   "outputs": [],
   "source": [
    "# TRAIN an XGBOOST MODEL"
   ]
  },
  {
   "cell_type": "code",
   "execution_count": 574,
   "metadata": {},
   "outputs": [],
   "source": [
    "# Define the model\n",
    "from xgboost import XGBClassifier\n",
    "from sklearn.metrics import accuracy_score\n",
    "model = XGBClassifier()"
   ]
  },
  {
   "cell_type": "code",
   "execution_count": 575,
   "metadata": {},
   "outputs": [
    {
     "data": {
      "text/html": [
       "<style>#sk-container-id-9 {color: black;background-color: white;}#sk-container-id-9 pre{padding: 0;}#sk-container-id-9 div.sk-toggleable {background-color: white;}#sk-container-id-9 label.sk-toggleable__label {cursor: pointer;display: block;width: 100%;margin-bottom: 0;padding: 0.3em;box-sizing: border-box;text-align: center;}#sk-container-id-9 label.sk-toggleable__label-arrow:before {content: \"▸\";float: left;margin-right: 0.25em;color: #696969;}#sk-container-id-9 label.sk-toggleable__label-arrow:hover:before {color: black;}#sk-container-id-9 div.sk-estimator:hover label.sk-toggleable__label-arrow:before {color: black;}#sk-container-id-9 div.sk-toggleable__content {max-height: 0;max-width: 0;overflow: hidden;text-align: left;background-color: #f0f8ff;}#sk-container-id-9 div.sk-toggleable__content pre {margin: 0.2em;color: black;border-radius: 0.25em;background-color: #f0f8ff;}#sk-container-id-9 input.sk-toggleable__control:checked~div.sk-toggleable__content {max-height: 200px;max-width: 100%;overflow: auto;}#sk-container-id-9 input.sk-toggleable__control:checked~label.sk-toggleable__label-arrow:before {content: \"▾\";}#sk-container-id-9 div.sk-estimator input.sk-toggleable__control:checked~label.sk-toggleable__label {background-color: #d4ebff;}#sk-container-id-9 div.sk-label input.sk-toggleable__control:checked~label.sk-toggleable__label {background-color: #d4ebff;}#sk-container-id-9 input.sk-hidden--visually {border: 0;clip: rect(1px 1px 1px 1px);clip: rect(1px, 1px, 1px, 1px);height: 1px;margin: -1px;overflow: hidden;padding: 0;position: absolute;width: 1px;}#sk-container-id-9 div.sk-estimator {font-family: monospace;background-color: #f0f8ff;border: 1px dotted black;border-radius: 0.25em;box-sizing: border-box;margin-bottom: 0.5em;}#sk-container-id-9 div.sk-estimator:hover {background-color: #d4ebff;}#sk-container-id-9 div.sk-parallel-item::after {content: \"\";width: 100%;border-bottom: 1px solid gray;flex-grow: 1;}#sk-container-id-9 div.sk-label:hover label.sk-toggleable__label {background-color: #d4ebff;}#sk-container-id-9 div.sk-serial::before {content: \"\";position: absolute;border-left: 1px solid gray;box-sizing: border-box;top: 0;bottom: 0;left: 50%;z-index: 0;}#sk-container-id-9 div.sk-serial {display: flex;flex-direction: column;align-items: center;background-color: white;padding-right: 0.2em;padding-left: 0.2em;position: relative;}#sk-container-id-9 div.sk-item {position: relative;z-index: 1;}#sk-container-id-9 div.sk-parallel {display: flex;align-items: stretch;justify-content: center;background-color: white;position: relative;}#sk-container-id-9 div.sk-item::before, #sk-container-id-9 div.sk-parallel-item::before {content: \"\";position: absolute;border-left: 1px solid gray;box-sizing: border-box;top: 0;bottom: 0;left: 50%;z-index: -1;}#sk-container-id-9 div.sk-parallel-item {display: flex;flex-direction: column;z-index: 1;position: relative;background-color: white;}#sk-container-id-9 div.sk-parallel-item:first-child::after {align-self: flex-end;width: 50%;}#sk-container-id-9 div.sk-parallel-item:last-child::after {align-self: flex-start;width: 50%;}#sk-container-id-9 div.sk-parallel-item:only-child::after {width: 0;}#sk-container-id-9 div.sk-dashed-wrapped {border: 1px dashed gray;margin: 0 0.4em 0.5em 0.4em;box-sizing: border-box;padding-bottom: 0.4em;background-color: white;}#sk-container-id-9 div.sk-label label {font-family: monospace;font-weight: bold;display: inline-block;line-height: 1.2em;}#sk-container-id-9 div.sk-label-container {text-align: center;}#sk-container-id-9 div.sk-container {/* jupyter's `normalize.less` sets `[hidden] { display: none; }` but bootstrap.min.css set `[hidden] { display: none !important; }` so we also need the `!important` here to be able to override the default hidden behavior on the sphinx rendered scikit-learn.org. See: https://github.com/scikit-learn/scikit-learn/issues/21755 */display: inline-block !important;position: relative;}#sk-container-id-9 div.sk-text-repr-fallback {display: none;}</style><div id=\"sk-container-id-9\" class=\"sk-top-container\"><div class=\"sk-text-repr-fallback\"><pre>XGBClassifier(base_score=0.5, booster=&#x27;gbtree&#x27;, callbacks=None,\n",
       "              colsample_bylevel=1, colsample_bynode=1, colsample_bytree=1,\n",
       "              early_stopping_rounds=None, enable_categorical=False,\n",
       "              eval_metric=None, gamma=0, gpu_id=-1, grow_policy=&#x27;depthwise&#x27;,\n",
       "              importance_type=None, interaction_constraints=&#x27;&#x27;,\n",
       "              learning_rate=0.300000012, max_bin=256, max_cat_to_onehot=4,\n",
       "              max_delta_step=0, max_depth=6, max_leaves=0, min_child_weight=1,\n",
       "              missing=nan, monotone_constraints=&#x27;()&#x27;, n_estimators=100,\n",
       "              n_jobs=0, num_parallel_tree=1, predictor=&#x27;auto&#x27;, random_state=0,\n",
       "              reg_alpha=0, reg_lambda=1, ...)</pre><b>In a Jupyter environment, please rerun this cell to show the HTML representation or trust the notebook. <br />On GitHub, the HTML representation is unable to render, please try loading this page with nbviewer.org.</b></div><div class=\"sk-container\" hidden><div class=\"sk-item\"><div class=\"sk-estimator sk-toggleable\"><input class=\"sk-toggleable__control sk-hidden--visually\" id=\"sk-estimator-id-9\" type=\"checkbox\" checked><label for=\"sk-estimator-id-9\" class=\"sk-toggleable__label sk-toggleable__label-arrow\">XGBClassifier</label><div class=\"sk-toggleable__content\"><pre>XGBClassifier(base_score=0.5, booster=&#x27;gbtree&#x27;, callbacks=None,\n",
       "              colsample_bylevel=1, colsample_bynode=1, colsample_bytree=1,\n",
       "              early_stopping_rounds=None, enable_categorical=False,\n",
       "              eval_metric=None, gamma=0, gpu_id=-1, grow_policy=&#x27;depthwise&#x27;,\n",
       "              importance_type=None, interaction_constraints=&#x27;&#x27;,\n",
       "              learning_rate=0.300000012, max_bin=256, max_cat_to_onehot=4,\n",
       "              max_delta_step=0, max_depth=6, max_leaves=0, min_child_weight=1,\n",
       "              missing=nan, monotone_constraints=&#x27;()&#x27;, n_estimators=100,\n",
       "              n_jobs=0, num_parallel_tree=1, predictor=&#x27;auto&#x27;, random_state=0,\n",
       "              reg_alpha=0, reg_lambda=1, ...)</pre></div></div></div></div></div>"
      ],
      "text/plain": [
       "XGBClassifier(base_score=0.5, booster='gbtree', callbacks=None,\n",
       "              colsample_bylevel=1, colsample_bynode=1, colsample_bytree=1,\n",
       "              early_stopping_rounds=None, enable_categorical=False,\n",
       "              eval_metric=None, gamma=0, gpu_id=-1, grow_policy='depthwise',\n",
       "              importance_type=None, interaction_constraints='',\n",
       "              learning_rate=0.300000012, max_bin=256, max_cat_to_onehot=4,\n",
       "              max_delta_step=0, max_depth=6, max_leaves=0, min_child_weight=1,\n",
       "              missing=nan, monotone_constraints='()', n_estimators=100,\n",
       "              n_jobs=0, num_parallel_tree=1, predictor='auto', random_state=0,\n",
       "              reg_alpha=0, reg_lambda=1, ...)"
      ]
     },
     "execution_count": 575,
     "metadata": {},
     "output_type": "execute_result"
    }
   ],
   "source": [
    "# Train the model\n",
    "model.fit(X_train, y_train)"
   ]
  },
  {
   "cell_type": "code",
   "execution_count": 576,
   "metadata": {},
   "outputs": [],
   "source": [
    "# Get the predictions\n",
    "y_pred = model.predict(X_test)\n",
    "predictions = [np.round(x) for x in y_pred]"
   ]
  },
  {
   "cell_type": "code",
   "execution_count": 577,
   "metadata": {},
   "outputs": [
    {
     "name": "stdout",
     "output_type": "stream",
     "text": [
      "Accuracy: 40.47%\n"
     ]
    }
   ],
   "source": [
    "# Check the accuracy\n",
    "accuracy = accuracy_score(y_test, predictions)\n",
    "print(\"Accuracy: %.2f%%\" % (accuracy * 100.0))"
   ]
  },
  {
   "cell_type": "code",
   "execution_count": null,
   "metadata": {},
   "outputs": [],
   "source": [
    "# Train an ANN model"
   ]
  },
  {
   "cell_type": "code",
   "execution_count": 578,
   "metadata": {},
   "outputs": [],
   "source": [
    "# Define the model\n",
    "from tensorflow.keras.models import Sequential\n",
    "from tensorflow.keras.layers import Dense,Dropout,Activation,Flatten\n",
    "from tensorflow.keras.optimizers import Adam\n",
    "from sklearn import metrics\n",
    "\n",
    "### No of classes\n",
    "num_labels = y.shape[1]\n",
    "\n",
    "model=Sequential()\n",
    "#First Layer\n",
    "model.add(Dense(1024,input_shape=(120,)))\n",
    "model.add(Activation('relu'))\n",
    "model.add(Dropout(0.50))\n",
    "\n",
    "#Second Layer\n",
    "model.add(Dense(512))\n",
    "model.add(Activation('relu'))\n",
    "model.add(Dropout(0.30))\n",
    "\n",
    "#Third Layer\n",
    "model.add(Dense(256))\n",
    "model.add(Activation('relu'))\n",
    "model.add(Dropout(0.25))\n",
    "\n",
    "#Fourth Layer\n",
    "model.add(Dense(128))\n",
    "model.add(Activation('relu'))\n",
    "model.add(Dropout(0.25))\n",
    "\n",
    "#Final Layer\n",
    "model.add(Dense(num_labels))\n",
    "model.add(Activation('softmax'))"
   ]
  },
  {
   "cell_type": "code",
   "execution_count": 579,
   "metadata": {},
   "outputs": [
    {
     "name": "stdout",
     "output_type": "stream",
     "text": [
      "Model: \"sequential_22\"\n",
      "_________________________________________________________________\n",
      " Layer (type)                Output Shape              Param #   \n",
      "=================================================================\n",
      " dense_64 (Dense)            (None, 1024)              123904    \n",
      "                                                                 \n",
      " activation_54 (Activation)  (None, 1024)              0         \n",
      "                                                                 \n",
      " dropout_48 (Dropout)        (None, 1024)              0         \n",
      "                                                                 \n",
      " dense_65 (Dense)            (None, 512)               524800    \n",
      "                                                                 \n",
      " activation_55 (Activation)  (None, 512)               0         \n",
      "                                                                 \n",
      " dropout_49 (Dropout)        (None, 512)               0         \n",
      "                                                                 \n",
      " dense_66 (Dense)            (None, 256)               131328    \n",
      "                                                                 \n",
      " activation_56 (Activation)  (None, 256)               0         \n",
      "                                                                 \n",
      " dropout_50 (Dropout)        (None, 256)               0         \n",
      "                                                                 \n",
      " dense_67 (Dense)            (None, 128)               32896     \n",
      "                                                                 \n",
      " activation_57 (Activation)  (None, 128)               0         \n",
      "                                                                 \n",
      " dropout_51 (Dropout)        (None, 128)               0         \n",
      "                                                                 \n",
      " dense_68 (Dense)            (None, 3)                 387       \n",
      "                                                                 \n",
      " activation_58 (Activation)  (None, 3)                 0         \n",
      "                                                                 \n",
      "=================================================================\n",
      "Total params: 813,315\n",
      "Trainable params: 813,315\n",
      "Non-trainable params: 0\n",
      "_________________________________________________________________\n"
     ]
    }
   ],
   "source": [
    "model.summary()"
   ]
  },
  {
   "cell_type": "code",
   "execution_count": 580,
   "metadata": {},
   "outputs": [],
   "source": [
    "# Compile the model with loss and optimizer\n",
    "model.compile(loss='categorical_crossentropy',metrics=['accuracy'],optimizer='adam')"
   ]
  },
  {
   "cell_type": "code",
   "execution_count": 581,
   "metadata": {},
   "outputs": [
    {
     "name": "stdout",
     "output_type": "stream",
     "text": [
      "Epoch 1/200\n",
      "142/142 [==============================] - ETA: 0s - loss: 3.8837 - accuracy: 0.3843\n",
      "Epoch 1: val_loss improved from inf to 1.06212, saving model to audio_classification_v1.0.hdf5\n",
      "142/142 [==============================] - 5s 25ms/step - loss: 3.8837 - accuracy: 0.3843 - val_loss: 1.0621 - val_accuracy: 0.3619\n",
      "Epoch 2/200\n",
      "140/142 [============================>.] - ETA: 0s - loss: 1.1573 - accuracy: 0.3973\n",
      "Epoch 2: val_loss did not improve from 1.06212\n",
      "142/142 [==============================] - 2s 14ms/step - loss: 1.1558 - accuracy: 0.3982 - val_loss: 1.0721 - val_accuracy: 0.4515\n",
      "Epoch 3/200\n",
      "140/142 [============================>.] - ETA: 0s - loss: 1.0680 - accuracy: 0.4223\n",
      "Epoch 3: val_loss improved from 1.06212 to 1.05286, saving model to audio_classification_v1.0.hdf5\n",
      "142/142 [==============================] - 2s 14ms/step - loss: 1.0686 - accuracy: 0.4229 - val_loss: 1.0529 - val_accuracy: 0.3381\n",
      "Epoch 4/200\n",
      "139/142 [============================>.] - ETA: 0s - loss: 1.0573 - accuracy: 0.4173\n",
      "Epoch 4: val_loss did not improve from 1.05286\n",
      "142/142 [==============================] - 1s 9ms/step - loss: 1.0575 - accuracy: 0.4174 - val_loss: 1.0538 - val_accuracy: 0.4485\n",
      "Epoch 5/200\n",
      "140/142 [============================>.] - ETA: 0s - loss: 1.0485 - accuracy: 0.4250\n",
      "Epoch 5: val_loss improved from 1.05286 to 1.04823, saving model to audio_classification_v1.0.hdf5\n",
      "142/142 [==============================] - 1s 10ms/step - loss: 1.0488 - accuracy: 0.4254 - val_loss: 1.0482 - val_accuracy: 0.4536\n",
      "Epoch 6/200\n",
      "141/142 [============================>.] - ETA: 0s - loss: 1.0423 - accuracy: 0.4280\n",
      "Epoch 6: val_loss improved from 1.04823 to 1.04061, saving model to audio_classification_v1.0.hdf5\n",
      "142/142 [==============================] - 1s 9ms/step - loss: 1.0420 - accuracy: 0.4280 - val_loss: 1.0406 - val_accuracy: 0.4804\n",
      "Epoch 7/200\n",
      "136/142 [===========================>..] - ETA: 0s - loss: 1.0381 - accuracy: 0.4311\n",
      "Epoch 7: val_loss improved from 1.04061 to 1.03547, saving model to audio_classification_v1.0.hdf5\n",
      "142/142 [==============================] - 1s 10ms/step - loss: 1.0389 - accuracy: 0.4320 - val_loss: 1.0355 - val_accuracy: 0.4784\n",
      "Epoch 8/200\n",
      "138/142 [============================>.] - ETA: 0s - loss: 1.0269 - accuracy: 0.4463\n",
      "Epoch 8: val_loss improved from 1.03547 to 1.02016, saving model to audio_classification_v1.0.hdf5\n",
      "142/142 [==============================] - 2s 11ms/step - loss: 1.0267 - accuracy: 0.4468 - val_loss: 1.0202 - val_accuracy: 0.4959\n",
      "Epoch 9/200\n",
      "138/142 [============================>.] - ETA: 0s - loss: 1.0159 - accuracy: 0.4638\n",
      "Epoch 9: val_loss did not improve from 1.02016\n",
      "142/142 [==============================] - 2s 12ms/step - loss: 1.0156 - accuracy: 0.4649 - val_loss: 1.0301 - val_accuracy: 0.4701\n",
      "Epoch 10/200\n",
      "139/142 [============================>.] - ETA: 0s - loss: 1.0134 - accuracy: 0.4739\n",
      "Epoch 10: val_loss did not improve from 1.02016\n",
      "142/142 [==============================] - 2s 13ms/step - loss: 1.0138 - accuracy: 0.4731 - val_loss: 1.0237 - val_accuracy: 0.4722\n",
      "Epoch 11/200\n",
      "137/142 [===========================>..] - ETA: 0s - loss: 1.0148 - accuracy: 0.4758\n",
      "Epoch 11: val_loss improved from 1.02016 to 1.00919, saving model to audio_classification_v1.0.hdf5\n",
      "142/142 [==============================] - 1s 10ms/step - loss: 1.0166 - accuracy: 0.4744 - val_loss: 1.0092 - val_accuracy: 0.5041\n",
      "Epoch 12/200\n",
      "139/142 [============================>.] - ETA: 0s - loss: 1.0063 - accuracy: 0.4791\n",
      "Epoch 12: val_loss improved from 1.00919 to 1.00216, saving model to audio_classification_v1.0.hdf5\n",
      "142/142 [==============================] - 1s 10ms/step - loss: 1.0053 - accuracy: 0.4792 - val_loss: 1.0022 - val_accuracy: 0.5062\n",
      "Epoch 13/200\n",
      "136/142 [===========================>..] - ETA: 0s - loss: 0.9939 - accuracy: 0.4835\n",
      "Epoch 13: val_loss improved from 1.00216 to 0.97678, saving model to audio_classification_v1.0.hdf5\n",
      "142/142 [==============================] - 1s 10ms/step - loss: 0.9921 - accuracy: 0.4841 - val_loss: 0.9768 - val_accuracy: 0.5237\n",
      "Epoch 14/200\n",
      "142/142 [==============================] - ETA: 0s - loss: 0.9917 - accuracy: 0.4932\n",
      "Epoch 14: val_loss did not improve from 0.97678\n",
      "142/142 [==============================] - 2s 12ms/step - loss: 0.9917 - accuracy: 0.4932 - val_loss: 0.9798 - val_accuracy: 0.5309\n",
      "Epoch 15/200\n",
      "138/142 [============================>.] - ETA: 0s - loss: 0.9811 - accuracy: 0.4984\n",
      "Epoch 15: val_loss improved from 0.97678 to 0.96309, saving model to audio_classification_v1.0.hdf5\n",
      "142/142 [==============================] - 1s 9ms/step - loss: 0.9787 - accuracy: 0.5007 - val_loss: 0.9631 - val_accuracy: 0.5443\n",
      "Epoch 16/200\n",
      "137/142 [===========================>..] - ETA: 0s - loss: 0.9659 - accuracy: 0.5194\n",
      "Epoch 16: val_loss improved from 0.96309 to 0.95565, saving model to audio_classification_v1.0.hdf5\n",
      "142/142 [==============================] - 1s 10ms/step - loss: 0.9660 - accuracy: 0.5201 - val_loss: 0.9557 - val_accuracy: 0.5526\n",
      "Epoch 17/200\n",
      "142/142 [==============================] - ETA: 0s - loss: 0.9650 - accuracy: 0.5199\n",
      "Epoch 17: val_loss improved from 0.95565 to 0.95148, saving model to audio_classification_v1.0.hdf5\n",
      "142/142 [==============================] - 1s 10ms/step - loss: 0.9650 - accuracy: 0.5199 - val_loss: 0.9515 - val_accuracy: 0.5608\n",
      "Epoch 18/200\n",
      "138/142 [============================>.] - ETA: 0s - loss: 0.9601 - accuracy: 0.5333\n",
      "Epoch 18: val_loss did not improve from 0.95148\n",
      "142/142 [==============================] - 1s 10ms/step - loss: 0.9609 - accuracy: 0.5325 - val_loss: 0.9558 - val_accuracy: 0.5536\n",
      "Epoch 19/200\n",
      "141/142 [============================>.] - ETA: 0s - loss: 0.9535 - accuracy: 0.5273\n",
      "Epoch 19: val_loss did not improve from 0.95148\n",
      "142/142 [==============================] - 1s 8ms/step - loss: 0.9536 - accuracy: 0.5272 - val_loss: 0.9720 - val_accuracy: 0.5402\n",
      "Epoch 20/200\n",
      "141/142 [============================>.] - ETA: 0s - loss: 0.9491 - accuracy: 0.5332\n",
      "Epoch 20: val_loss did not improve from 0.95148\n",
      "142/142 [==============================] - 1s 10ms/step - loss: 0.9490 - accuracy: 0.5329 - val_loss: 0.9551 - val_accuracy: 0.5639\n",
      "Epoch 21/200\n",
      "140/142 [============================>.] - ETA: 0s - loss: 0.9455 - accuracy: 0.5435\n",
      "Epoch 21: val_loss improved from 0.95148 to 0.93745, saving model to audio_classification_v1.0.hdf5\n",
      "142/142 [==============================] - 2s 12ms/step - loss: 0.9454 - accuracy: 0.5439 - val_loss: 0.9374 - val_accuracy: 0.5670\n",
      "Epoch 22/200\n",
      "141/142 [============================>.] - ETA: 0s - loss: 0.9458 - accuracy: 0.5432\n",
      "Epoch 22: val_loss did not improve from 0.93745\n",
      "142/142 [==============================] - 1s 9ms/step - loss: 0.9457 - accuracy: 0.5433 - val_loss: 0.9693 - val_accuracy: 0.5320\n",
      "Epoch 23/200\n",
      "140/142 [============================>.] - ETA: 0s - loss: 0.9416 - accuracy: 0.5453\n",
      "Epoch 23: val_loss did not improve from 0.93745\n",
      "142/142 [==============================] - 1s 9ms/step - loss: 0.9418 - accuracy: 0.5457 - val_loss: 0.9380 - val_accuracy: 0.5753\n",
      "Epoch 24/200\n",
      "140/142 [============================>.] - ETA: 0s - loss: 0.9370 - accuracy: 0.5538\n",
      "Epoch 24: val_loss did not improve from 0.93745\n",
      "142/142 [==============================] - 1s 10ms/step - loss: 0.9377 - accuracy: 0.5537 - val_loss: 0.9498 - val_accuracy: 0.5639\n",
      "Epoch 25/200\n",
      "142/142 [==============================] - ETA: 0s - loss: 0.9272 - accuracy: 0.5572\n",
      "Epoch 25: val_loss improved from 0.93745 to 0.92501, saving model to audio_classification_v1.0.hdf5\n",
      "142/142 [==============================] - 1s 10ms/step - loss: 0.9272 - accuracy: 0.5572 - val_loss: 0.9250 - val_accuracy: 0.5773\n",
      "Epoch 26/200\n",
      "139/142 [============================>.] - ETA: 0s - loss: 0.9205 - accuracy: 0.5616\n",
      "Epoch 26: val_loss improved from 0.92501 to 0.91930, saving model to audio_classification_v1.0.hdf5\n",
      "142/142 [==============================] - 1s 10ms/step - loss: 0.9208 - accuracy: 0.5614 - val_loss: 0.9193 - val_accuracy: 0.5825\n",
      "Epoch 27/200\n",
      "137/142 [===========================>..] - ETA: 0s - loss: 0.9186 - accuracy: 0.5657\n",
      "Epoch 27: val_loss did not improve from 0.91930\n",
      "142/142 [==============================] - 1s 9ms/step - loss: 0.9198 - accuracy: 0.5656 - val_loss: 0.9267 - val_accuracy: 0.5680\n",
      "Epoch 28/200\n",
      "138/142 [============================>.] - ETA: 0s - loss: 0.9236 - accuracy: 0.5598\n",
      "Epoch 28: val_loss did not improve from 0.91930\n",
      "142/142 [==============================] - 2s 11ms/step - loss: 0.9236 - accuracy: 0.5592 - val_loss: 0.9319 - val_accuracy: 0.5742\n",
      "Epoch 29/200\n",
      "140/142 [============================>.] - ETA: 0s - loss: 0.9248 - accuracy: 0.5605\n",
      "Epoch 29: val_loss did not improve from 0.91930\n",
      "142/142 [==============================] - 1s 8ms/step - loss: 0.9256 - accuracy: 0.5605 - val_loss: 0.9481 - val_accuracy: 0.5629\n",
      "Epoch 30/200\n",
      "141/142 [============================>.] - ETA: 0s - loss: 0.9195 - accuracy: 0.5618\n",
      "Epoch 30: val_loss did not improve from 0.91930\n",
      "142/142 [==============================] - 2s 11ms/step - loss: 0.9193 - accuracy: 0.5616 - val_loss: 0.9219 - val_accuracy: 0.5856\n",
      "Epoch 31/200\n",
      "137/142 [===========================>..] - ETA: 0s - loss: 0.9169 - accuracy: 0.5675\n",
      "Epoch 31: val_loss did not improve from 0.91930\n",
      "142/142 [==============================] - 1s 8ms/step - loss: 0.9179 - accuracy: 0.5663 - val_loss: 0.9388 - val_accuracy: 0.5412\n",
      "Epoch 32/200\n",
      "141/142 [============================>.] - ETA: 0s - loss: 0.9229 - accuracy: 0.5665\n",
      "Epoch 32: val_loss improved from 0.91930 to 0.91512, saving model to audio_classification_v1.0.hdf5\n",
      "142/142 [==============================] - 1s 9ms/step - loss: 0.9226 - accuracy: 0.5665 - val_loss: 0.9151 - val_accuracy: 0.5711\n",
      "Epoch 33/200\n",
      "141/142 [============================>.] - ETA: 0s - loss: 0.9229 - accuracy: 0.5680\n",
      "Epoch 33: val_loss improved from 0.91512 to 0.91444, saving model to audio_classification_v1.0.hdf5\n",
      "142/142 [==============================] - 1s 9ms/step - loss: 0.9227 - accuracy: 0.5682 - val_loss: 0.9144 - val_accuracy: 0.5825\n",
      "Epoch 34/200\n",
      "137/142 [===========================>..] - ETA: 0s - loss: 0.9141 - accuracy: 0.5689\n",
      "Epoch 34: val_loss did not improve from 0.91444\n",
      "142/142 [==============================] - 1s 11ms/step - loss: 0.9139 - accuracy: 0.5700 - val_loss: 0.9216 - val_accuracy: 0.5577\n",
      "Epoch 35/200\n",
      "135/142 [===========================>..] - ETA: 0s - loss: 0.9047 - accuracy: 0.5685\n",
      "Epoch 35: val_loss did not improve from 0.91444\n",
      "142/142 [==============================] - 1s 9ms/step - loss: 0.9049 - accuracy: 0.5687 - val_loss: 0.9243 - val_accuracy: 0.5567\n",
      "Epoch 36/200\n",
      "138/142 [============================>.] - ETA: 0s - loss: 0.9060 - accuracy: 0.5779\n",
      "Epoch 36: val_loss did not improve from 0.91444\n",
      "142/142 [==============================] - 1s 8ms/step - loss: 0.9056 - accuracy: 0.5784 - val_loss: 0.9168 - val_accuracy: 0.5722\n",
      "Epoch 37/200\n",
      "137/142 [===========================>..] - ETA: 0s - loss: 0.9146 - accuracy: 0.5696\n",
      "Epoch 37: val_loss did not improve from 0.91444\n",
      "142/142 [==============================] - 1s 8ms/step - loss: 0.9117 - accuracy: 0.5733 - val_loss: 0.9160 - val_accuracy: 0.5845\n",
      "Epoch 38/200\n",
      "141/142 [============================>.] - ETA: 0s - loss: 0.9095 - accuracy: 0.5683\n",
      "Epoch 38: val_loss did not improve from 0.91444\n",
      "142/142 [==============================] - 2s 11ms/step - loss: 0.9096 - accuracy: 0.5685 - val_loss: 0.9250 - val_accuracy: 0.5835\n",
      "Epoch 39/200\n",
      "138/142 [============================>.] - ETA: 0s - loss: 0.9061 - accuracy: 0.5833\n",
      "Epoch 39: val_loss did not improve from 0.91444\n",
      "142/142 [==============================] - 1s 8ms/step - loss: 0.9062 - accuracy: 0.5817 - val_loss: 0.9491 - val_accuracy: 0.5495\n",
      "Epoch 40/200\n",
      "141/142 [============================>.] - ETA: 0s - loss: 0.9012 - accuracy: 0.5880\n",
      "Epoch 40: val_loss did not improve from 0.91444\n",
      "142/142 [==============================] - 1s 8ms/step - loss: 0.9015 - accuracy: 0.5875 - val_loss: 0.9152 - val_accuracy: 0.5753\n",
      "Epoch 41/200\n",
      "142/142 [==============================] - ETA: 0s - loss: 0.8992 - accuracy: 0.5822\n",
      "Epoch 41: val_loss did not improve from 0.91444\n",
      "142/142 [==============================] - 1s 9ms/step - loss: 0.8992 - accuracy: 0.5822 - val_loss: 0.9261 - val_accuracy: 0.5577\n",
      "Epoch 42/200\n",
      "140/142 [============================>.] - ETA: 0s - loss: 0.9001 - accuracy: 0.5848\n",
      "Epoch 42: val_loss did not improve from 0.91444\n",
      "142/142 [==============================] - 1s 8ms/step - loss: 0.8997 - accuracy: 0.5846 - val_loss: 0.9166 - val_accuracy: 0.5649\n",
      "Epoch 43/200\n",
      "141/142 [============================>.] - ETA: 0s - loss: 0.9021 - accuracy: 0.5851\n",
      "Epoch 43: val_loss did not improve from 0.91444\n",
      "142/142 [==============================] - 1s 8ms/step - loss: 0.9017 - accuracy: 0.5857 - val_loss: 0.9218 - val_accuracy: 0.5639\n",
      "Epoch 44/200\n",
      "141/142 [============================>.] - ETA: 0s - loss: 0.8929 - accuracy: 0.5847\n",
      "Epoch 44: val_loss did not improve from 0.91444\n",
      "142/142 [==============================] - 1s 9ms/step - loss: 0.8928 - accuracy: 0.5848 - val_loss: 0.9198 - val_accuracy: 0.5701\n",
      "Epoch 45/200\n",
      "141/142 [============================>.] - ETA: 0s - loss: 0.8940 - accuracy: 0.5849\n",
      "Epoch 45: val_loss improved from 0.91444 to 0.91055, saving model to audio_classification_v1.0.hdf5\n",
      "142/142 [==============================] - 1s 8ms/step - loss: 0.8935 - accuracy: 0.5850 - val_loss: 0.9105 - val_accuracy: 0.5856\n",
      "Epoch 46/200\n",
      "139/142 [============================>.] - ETA: 0s - loss: 0.9003 - accuracy: 0.5827\n",
      "Epoch 46: val_loss did not improve from 0.91055\n",
      "142/142 [==============================] - 2s 11ms/step - loss: 0.8997 - accuracy: 0.5833 - val_loss: 0.9154 - val_accuracy: 0.5825\n",
      "Epoch 47/200\n",
      "140/142 [============================>.] - ETA: 0s - loss: 0.8933 - accuracy: 0.5879\n",
      "Epoch 47: val_loss did not improve from 0.91055\n",
      "142/142 [==============================] - 1s 8ms/step - loss: 0.8926 - accuracy: 0.5875 - val_loss: 0.9156 - val_accuracy: 0.5660\n",
      "Epoch 48/200\n",
      "141/142 [============================>.] - ETA: 0s - loss: 0.8918 - accuracy: 0.5918\n",
      "Epoch 48: val_loss did not improve from 0.91055\n",
      "142/142 [==============================] - 1s 8ms/step - loss: 0.8924 - accuracy: 0.5917 - val_loss: 0.9140 - val_accuracy: 0.5825\n",
      "Epoch 49/200\n",
      "136/142 [===========================>..] - ETA: 0s - loss: 0.8928 - accuracy: 0.5848\n",
      "Epoch 49: val_loss did not improve from 0.91055\n",
      "142/142 [==============================] - 1s 9ms/step - loss: 0.8965 - accuracy: 0.5826 - val_loss: 0.9273 - val_accuracy: 0.5423\n",
      "Epoch 50/200\n",
      "137/142 [===========================>..] - ETA: 0s - loss: 0.8848 - accuracy: 0.5903\n",
      "Epoch 50: val_loss did not improve from 0.91055\n",
      "142/142 [==============================] - 1s 10ms/step - loss: 0.8842 - accuracy: 0.5901 - val_loss: 0.9115 - val_accuracy: 0.5773\n",
      "Epoch 51/200\n",
      "141/142 [============================>.] - ETA: 0s - loss: 0.8840 - accuracy: 0.5913\n",
      "Epoch 51: val_loss did not improve from 0.91055\n",
      "142/142 [==============================] - 1s 8ms/step - loss: 0.8835 - accuracy: 0.5917 - val_loss: 0.9139 - val_accuracy: 0.5907\n",
      "Epoch 52/200\n",
      "140/142 [============================>.] - ETA: 0s - loss: 0.8847 - accuracy: 0.5929\n",
      "Epoch 52: val_loss did not improve from 0.91055\n",
      "142/142 [==============================] - 2s 13ms/step - loss: 0.8848 - accuracy: 0.5934 - val_loss: 0.9182 - val_accuracy: 0.5629\n",
      "Epoch 53/200\n",
      "140/142 [============================>.] - ETA: 0s - loss: 0.8810 - accuracy: 0.5996\n",
      "Epoch 53: val_loss improved from 0.91055 to 0.90914, saving model to audio_classification_v1.0.hdf5\n",
      "142/142 [==============================] - 1s 9ms/step - loss: 0.8817 - accuracy: 0.5987 - val_loss: 0.9091 - val_accuracy: 0.5825\n",
      "Epoch 54/200\n",
      "141/142 [============================>.] - ETA: 0s - loss: 0.8881 - accuracy: 0.6008\n",
      "Epoch 54: val_loss improved from 0.90914 to 0.90271, saving model to audio_classification_v1.0.hdf5\n",
      "142/142 [==============================] - 1s 9ms/step - loss: 0.8884 - accuracy: 0.6007 - val_loss: 0.9027 - val_accuracy: 0.5897\n",
      "Epoch 55/200\n",
      "137/142 [===========================>..] - ETA: 0s - loss: 0.8820 - accuracy: 0.5953\n",
      "Epoch 55: val_loss did not improve from 0.90271\n",
      "142/142 [==============================] - 1s 9ms/step - loss: 0.8829 - accuracy: 0.5954 - val_loss: 0.9241 - val_accuracy: 0.5784\n",
      "Epoch 56/200\n",
      "141/142 [============================>.] - ETA: 0s - loss: 0.8861 - accuracy: 0.5940\n",
      "Epoch 56: val_loss did not improve from 0.90271\n",
      "142/142 [==============================] - 1s 8ms/step - loss: 0.8860 - accuracy: 0.5941 - val_loss: 0.9170 - val_accuracy: 0.5794\n",
      "Epoch 57/200\n",
      "141/142 [============================>.] - ETA: 0s - loss: 0.8737 - accuracy: 0.5993\n",
      "Epoch 57: val_loss did not improve from 0.90271\n",
      "142/142 [==============================] - 1s 8ms/step - loss: 0.8734 - accuracy: 0.5992 - val_loss: 0.9067 - val_accuracy: 0.5876\n",
      "Epoch 58/200\n",
      "137/142 [===========================>..] - ETA: 0s - loss: 0.8702 - accuracy: 0.5926\n",
      "Epoch 58: val_loss did not improve from 0.90271\n",
      "142/142 [==============================] - 1s 9ms/step - loss: 0.8714 - accuracy: 0.5928 - val_loss: 0.9155 - val_accuracy: 0.5856\n",
      "Epoch 59/200\n",
      "141/142 [============================>.] - ETA: 0s - loss: 0.8758 - accuracy: 0.6073\n",
      "Epoch 59: val_loss improved from 0.90271 to 0.90068, saving model to audio_classification_v1.0.hdf5\n",
      "142/142 [==============================] - 1s 9ms/step - loss: 0.8752 - accuracy: 0.6076 - val_loss: 0.9007 - val_accuracy: 0.5856\n",
      "Epoch 60/200\n",
      "142/142 [==============================] - ETA: 0s - loss: 0.8682 - accuracy: 0.6016\n",
      "Epoch 60: val_loss did not improve from 0.90068\n",
      "142/142 [==============================] - 2s 13ms/step - loss: 0.8682 - accuracy: 0.6016 - val_loss: 0.9060 - val_accuracy: 0.5897\n",
      "Epoch 61/200\n",
      "141/142 [============================>.] - ETA: 0s - loss: 0.8737 - accuracy: 0.5977\n",
      "Epoch 61: val_loss did not improve from 0.90068\n",
      "142/142 [==============================] - 1s 8ms/step - loss: 0.8734 - accuracy: 0.5976 - val_loss: 0.9068 - val_accuracy: 0.5887\n",
      "Epoch 62/200\n",
      "140/142 [============================>.] - ETA: 0s - loss: 0.8643 - accuracy: 0.6058\n",
      "Epoch 62: val_loss did not improve from 0.90068\n",
      "142/142 [==============================] - 1s 8ms/step - loss: 0.8639 - accuracy: 0.6060 - val_loss: 0.9160 - val_accuracy: 0.5680\n",
      "Epoch 63/200\n",
      "136/142 [===========================>..] - ETA: 0s - loss: 0.8614 - accuracy: 0.6045\n",
      "Epoch 63: val_loss did not improve from 0.90068\n",
      "142/142 [==============================] - 1s 9ms/step - loss: 0.8599 - accuracy: 0.6049 - val_loss: 0.9114 - val_accuracy: 0.5711\n",
      "Epoch 64/200\n",
      "141/142 [============================>.] - ETA: 0s - loss: 0.8627 - accuracy: 0.6102\n",
      "Epoch 64: val_loss did not improve from 0.90068\n",
      "142/142 [==============================] - 1s 8ms/step - loss: 0.8628 - accuracy: 0.6102 - val_loss: 0.9078 - val_accuracy: 0.5856\n",
      "Epoch 65/200\n",
      "142/142 [==============================] - ETA: 0s - loss: 0.8554 - accuracy: 0.6122\n",
      "Epoch 65: val_loss did not improve from 0.90068\n",
      "142/142 [==============================] - 1s 9ms/step - loss: 0.8554 - accuracy: 0.6122 - val_loss: 0.9177 - val_accuracy: 0.5866\n",
      "Epoch 66/200\n",
      "141/142 [============================>.] - ETA: 0s - loss: 0.8614 - accuracy: 0.6048\n",
      "Epoch 66: val_loss did not improve from 0.90068\n",
      "142/142 [==============================] - 1s 9ms/step - loss: 0.8613 - accuracy: 0.6053 - val_loss: 0.9233 - val_accuracy: 0.5773\n",
      "Epoch 67/200\n",
      "138/142 [============================>.] - ETA: 0s - loss: 0.8581 - accuracy: 0.6139\n",
      "Epoch 67: val_loss did not improve from 0.90068\n",
      "142/142 [==============================] - 1s 9ms/step - loss: 0.8574 - accuracy: 0.6153 - val_loss: 0.9201 - val_accuracy: 0.5825\n",
      "Epoch 68/200\n",
      "136/142 [===========================>..] - ETA: 0s - loss: 0.8569 - accuracy: 0.6142\n",
      "Epoch 68: val_loss did not improve from 0.90068\n",
      "142/142 [==============================] - 1s 9ms/step - loss: 0.8587 - accuracy: 0.6122 - val_loss: 0.9056 - val_accuracy: 0.5887\n",
      "Epoch 69/200\n",
      "139/142 [============================>.] - ETA: 0s - loss: 0.8517 - accuracy: 0.6147\n",
      "Epoch 69: val_loss did not improve from 0.90068\n",
      "142/142 [==============================] - 1s 9ms/step - loss: 0.8530 - accuracy: 0.6142 - val_loss: 0.9095 - val_accuracy: 0.5907\n",
      "Epoch 70/200\n",
      "142/142 [==============================] - ETA: 0s - loss: 0.8498 - accuracy: 0.6166\n",
      "Epoch 70: val_loss did not improve from 0.90068\n",
      "142/142 [==============================] - 1s 9ms/step - loss: 0.8498 - accuracy: 0.6166 - val_loss: 0.9156 - val_accuracy: 0.5918\n",
      "Epoch 71/200\n",
      "140/142 [============================>.] - ETA: 0s - loss: 0.8587 - accuracy: 0.6096\n",
      "Epoch 71: val_loss did not improve from 0.90068\n",
      "142/142 [==============================] - 2s 11ms/step - loss: 0.8585 - accuracy: 0.6098 - val_loss: 0.9128 - val_accuracy: 0.5732\n",
      "Epoch 72/200\n",
      "140/142 [============================>.] - ETA: 0s - loss: 0.8494 - accuracy: 0.6181\n",
      "Epoch 72: val_loss did not improve from 0.90068\n",
      "142/142 [==============================] - 1s 9ms/step - loss: 0.8493 - accuracy: 0.6184 - val_loss: 0.9177 - val_accuracy: 0.5876\n",
      "Epoch 73/200\n",
      "142/142 [==============================] - ETA: 0s - loss: 0.8400 - accuracy: 0.6210\n",
      "Epoch 73: val_loss did not improve from 0.90068\n",
      "142/142 [==============================] - 1s 10ms/step - loss: 0.8400 - accuracy: 0.6210 - val_loss: 0.9143 - val_accuracy: 0.5835\n",
      "Epoch 74/200\n",
      "141/142 [============================>.] - ETA: 0s - loss: 0.8442 - accuracy: 0.6184\n",
      "Epoch 74: val_loss did not improve from 0.90068\n",
      "142/142 [==============================] - 1s 9ms/step - loss: 0.8449 - accuracy: 0.6179 - val_loss: 0.9166 - val_accuracy: 0.5835\n",
      "Epoch 75/200\n",
      "139/142 [============================>.] - ETA: 0s - loss: 0.8461 - accuracy: 0.6153\n",
      "Epoch 75: val_loss did not improve from 0.90068\n",
      "142/142 [==============================] - 1s 9ms/step - loss: 0.8468 - accuracy: 0.6146 - val_loss: 0.9111 - val_accuracy: 0.5866\n",
      "Epoch 76/200\n",
      "138/142 [============================>.] - ETA: 0s - loss: 0.8373 - accuracy: 0.6200\n",
      "Epoch 76: val_loss did not improve from 0.90068\n",
      "142/142 [==============================] - 1s 9ms/step - loss: 0.8381 - accuracy: 0.6182 - val_loss: 0.9313 - val_accuracy: 0.5804\n",
      "Epoch 77/200\n",
      "136/142 [===========================>..] - ETA: 0s - loss: 0.8500 - accuracy: 0.6151\n",
      "Epoch 77: val_loss did not improve from 0.90068\n",
      "142/142 [==============================] - 1s 9ms/step - loss: 0.8469 - accuracy: 0.6170 - val_loss: 0.9201 - val_accuracy: 0.5825\n",
      "Epoch 78/200\n",
      "141/142 [============================>.] - ETA: 0s - loss: 0.8334 - accuracy: 0.6248\n",
      "Epoch 78: val_loss did not improve from 0.90068\n",
      "142/142 [==============================] - 1s 10ms/step - loss: 0.8337 - accuracy: 0.6250 - val_loss: 0.9347 - val_accuracy: 0.5670\n",
      "Epoch 79/200\n",
      "140/142 [============================>.] - ETA: 0s - loss: 0.8479 - accuracy: 0.6170\n",
      "Epoch 79: val_loss did not improve from 0.90068\n",
      "142/142 [==============================] - 1s 10ms/step - loss: 0.8465 - accuracy: 0.6177 - val_loss: 0.9420 - val_accuracy: 0.5907\n",
      "Epoch 80/200\n",
      "137/142 [===========================>..] - ETA: 0s - loss: 0.8288 - accuracy: 0.6334\n",
      "Epoch 80: val_loss did not improve from 0.90068\n",
      "142/142 [==============================] - 1s 10ms/step - loss: 0.8287 - accuracy: 0.6336 - val_loss: 0.9470 - val_accuracy: 0.5670\n",
      "Epoch 81/200\n",
      "138/142 [============================>.] - ETA: 0s - loss: 0.8260 - accuracy: 0.6300\n",
      "Epoch 81: val_loss did not improve from 0.90068\n",
      "142/142 [==============================] - 1s 10ms/step - loss: 0.8270 - accuracy: 0.6301 - val_loss: 0.9193 - val_accuracy: 0.5918\n",
      "Epoch 82/200\n",
      "138/142 [============================>.] - ETA: 0s - loss: 0.8437 - accuracy: 0.6332\n",
      "Epoch 82: val_loss did not improve from 0.90068\n",
      "142/142 [==============================] - 1s 10ms/step - loss: 0.8450 - accuracy: 0.6321 - val_loss: 0.9172 - val_accuracy: 0.5938\n",
      "Epoch 83/200\n",
      "142/142 [==============================] - ETA: 0s - loss: 0.8383 - accuracy: 0.6296\n",
      "Epoch 83: val_loss did not improve from 0.90068\n",
      "142/142 [==============================] - 1s 10ms/step - loss: 0.8383 - accuracy: 0.6296 - val_loss: 0.9204 - val_accuracy: 0.5825\n",
      "Epoch 84/200\n",
      "142/142 [==============================] - ETA: 0s - loss: 0.8358 - accuracy: 0.6305\n",
      "Epoch 84: val_loss did not improve from 0.90068\n",
      "142/142 [==============================] - 1s 10ms/step - loss: 0.8358 - accuracy: 0.6305 - val_loss: 0.9359 - val_accuracy: 0.5701\n",
      "Epoch 85/200\n",
      "139/142 [============================>.] - ETA: 0s - loss: 0.8255 - accuracy: 0.6351\n",
      "Epoch 85: val_loss did not improve from 0.90068\n",
      "142/142 [==============================] - 1s 10ms/step - loss: 0.8249 - accuracy: 0.6360 - val_loss: 0.9260 - val_accuracy: 0.5887\n",
      "Epoch 86/200\n",
      "140/142 [============================>.] - ETA: 0s - loss: 0.8254 - accuracy: 0.6324\n",
      "Epoch 86: val_loss did not improve from 0.90068\n",
      "142/142 [==============================] - 2s 11ms/step - loss: 0.8265 - accuracy: 0.6314 - val_loss: 0.9155 - val_accuracy: 0.5814\n",
      "Epoch 87/200\n",
      "142/142 [==============================] - ETA: 0s - loss: 0.8414 - accuracy: 0.6301\n",
      "Epoch 87: val_loss did not improve from 0.90068\n",
      "142/142 [==============================] - 2s 11ms/step - loss: 0.8414 - accuracy: 0.6301 - val_loss: 0.9137 - val_accuracy: 0.5907\n",
      "Epoch 88/200\n",
      "141/142 [============================>.] - ETA: 0s - loss: 0.8291 - accuracy: 0.6290\n",
      "Epoch 88: val_loss did not improve from 0.90068\n",
      "142/142 [==============================] - 2s 11ms/step - loss: 0.8286 - accuracy: 0.6292 - val_loss: 0.9224 - val_accuracy: 0.5907\n",
      "Epoch 89/200\n",
      "137/142 [===========================>..] - ETA: 0s - loss: 0.8149 - accuracy: 0.6353\n",
      "Epoch 89: val_loss did not improve from 0.90068\n",
      "142/142 [==============================] - 2s 11ms/step - loss: 0.8162 - accuracy: 0.6341 - val_loss: 0.9203 - val_accuracy: 0.5804\n",
      "Epoch 90/200\n",
      "142/142 [==============================] - ETA: 0s - loss: 0.8284 - accuracy: 0.6389\n",
      "Epoch 90: val_loss did not improve from 0.90068\n",
      "142/142 [==============================] - 1s 10ms/step - loss: 0.8284 - accuracy: 0.6389 - val_loss: 0.9201 - val_accuracy: 0.5773\n",
      "Epoch 91/200\n",
      "142/142 [==============================] - ETA: 0s - loss: 0.8141 - accuracy: 0.6347\n",
      "Epoch 91: val_loss did not improve from 0.90068\n",
      "142/142 [==============================] - 1s 10ms/step - loss: 0.8141 - accuracy: 0.6347 - val_loss: 0.9133 - val_accuracy: 0.5876\n",
      "Epoch 92/200\n",
      "142/142 [==============================] - ETA: 0s - loss: 0.8110 - accuracy: 0.6418\n",
      "Epoch 92: val_loss did not improve from 0.90068\n",
      "142/142 [==============================] - 1s 10ms/step - loss: 0.8110 - accuracy: 0.6418 - val_loss: 0.9209 - val_accuracy: 0.5763\n",
      "Epoch 93/200\n",
      "139/142 [============================>.] - ETA: 0s - loss: 0.8088 - accuracy: 0.6380\n",
      "Epoch 93: val_loss did not improve from 0.90068\n",
      "142/142 [==============================] - 1s 11ms/step - loss: 0.8110 - accuracy: 0.6369 - val_loss: 0.9220 - val_accuracy: 0.5938\n",
      "Epoch 94/200\n",
      "137/142 [===========================>..] - ETA: 0s - loss: 0.8117 - accuracy: 0.6435\n",
      "Epoch 94: val_loss did not improve from 0.90068\n",
      "142/142 [==============================] - 1s 10ms/step - loss: 0.8130 - accuracy: 0.6422 - val_loss: 0.9336 - val_accuracy: 0.5784\n",
      "Epoch 95/200\n",
      "139/142 [============================>.] - ETA: 0s - loss: 0.8147 - accuracy: 0.6419\n",
      "Epoch 95: val_loss did not improve from 0.90068\n",
      "142/142 [==============================] - 1s 10ms/step - loss: 0.8134 - accuracy: 0.6427 - val_loss: 0.9237 - val_accuracy: 0.5907\n",
      "Epoch 96/200\n",
      "139/142 [============================>.] - ETA: 0s - loss: 0.8095 - accuracy: 0.6437\n",
      "Epoch 96: val_loss did not improve from 0.90068\n",
      "142/142 [==============================] - 1s 10ms/step - loss: 0.8098 - accuracy: 0.6429 - val_loss: 0.9352 - val_accuracy: 0.5856\n",
      "Epoch 97/200\n",
      "137/142 [===========================>..] - ETA: 0s - loss: 0.7959 - accuracy: 0.6526\n",
      "Epoch 97: val_loss did not improve from 0.90068\n",
      "142/142 [==============================] - 1s 10ms/step - loss: 0.7942 - accuracy: 0.6519 - val_loss: 0.9436 - val_accuracy: 0.5639\n",
      "Epoch 98/200\n",
      "139/142 [============================>.] - ETA: 0s - loss: 0.8000 - accuracy: 0.6450\n",
      "Epoch 98: val_loss did not improve from 0.90068\n",
      "142/142 [==============================] - 2s 11ms/step - loss: 0.8023 - accuracy: 0.6440 - val_loss: 0.9276 - val_accuracy: 0.5897\n",
      "Epoch 99/200\n",
      "141/142 [============================>.] - ETA: 0s - loss: 0.8098 - accuracy: 0.6407\n",
      "Epoch 99: val_loss did not improve from 0.90068\n",
      "142/142 [==============================] - 1s 10ms/step - loss: 0.8096 - accuracy: 0.6411 - val_loss: 0.9432 - val_accuracy: 0.5742\n",
      "Epoch 100/200\n",
      "138/142 [============================>.] - ETA: 0s - loss: 0.8090 - accuracy: 0.6381\n",
      "Epoch 100: val_loss did not improve from 0.90068\n",
      "142/142 [==============================] - 2s 11ms/step - loss: 0.8079 - accuracy: 0.6387 - val_loss: 0.9573 - val_accuracy: 0.5619\n",
      "Epoch 101/200\n",
      "142/142 [==============================] - ETA: 0s - loss: 0.8003 - accuracy: 0.6431\n",
      "Epoch 101: val_loss did not improve from 0.90068\n",
      "142/142 [==============================] - 1s 10ms/step - loss: 0.8003 - accuracy: 0.6431 - val_loss: 0.9287 - val_accuracy: 0.5732\n",
      "Epoch 102/200\n",
      "137/142 [===========================>..] - ETA: 0s - loss: 0.7925 - accuracy: 0.6528\n",
      "Epoch 102: val_loss did not improve from 0.90068\n",
      "142/142 [==============================] - 1s 10ms/step - loss: 0.7930 - accuracy: 0.6533 - val_loss: 0.9385 - val_accuracy: 0.5835\n",
      "Epoch 103/200\n",
      "142/142 [==============================] - ETA: 0s - loss: 0.8015 - accuracy: 0.6477\n",
      "Epoch 103: val_loss did not improve from 0.90068\n",
      "142/142 [==============================] - 1s 10ms/step - loss: 0.8015 - accuracy: 0.6477 - val_loss: 0.9332 - val_accuracy: 0.5866\n",
      "Epoch 104/200\n",
      "142/142 [==============================] - ETA: 0s - loss: 0.8072 - accuracy: 0.6427\n",
      "Epoch 104: val_loss did not improve from 0.90068\n",
      "142/142 [==============================] - 1s 11ms/step - loss: 0.8072 - accuracy: 0.6427 - val_loss: 0.9304 - val_accuracy: 0.6041\n",
      "Epoch 105/200\n",
      "140/142 [============================>.] - ETA: 0s - loss: 0.7981 - accuracy: 0.6464\n",
      "Epoch 105: val_loss did not improve from 0.90068\n",
      "142/142 [==============================] - 1s 10ms/step - loss: 0.7979 - accuracy: 0.6460 - val_loss: 0.9271 - val_accuracy: 0.5804\n",
      "Epoch 106/200\n",
      "139/142 [============================>.] - ETA: 0s - loss: 0.7999 - accuracy: 0.6524\n",
      "Epoch 106: val_loss did not improve from 0.90068\n",
      "142/142 [==============================] - 1s 10ms/step - loss: 0.7990 - accuracy: 0.6526 - val_loss: 0.9244 - val_accuracy: 0.5825\n",
      "Epoch 107/200\n",
      "140/142 [============================>.] - ETA: 0s - loss: 0.7924 - accuracy: 0.6507\n",
      "Epoch 107: val_loss did not improve from 0.90068\n",
      "142/142 [==============================] - 1s 10ms/step - loss: 0.7919 - accuracy: 0.6515 - val_loss: 0.9309 - val_accuracy: 0.5784\n",
      "Epoch 108/200\n",
      "141/142 [============================>.] - ETA: 0s - loss: 0.7922 - accuracy: 0.6487\n",
      "Epoch 108: val_loss did not improve from 0.90068\n",
      "142/142 [==============================] - 2s 11ms/step - loss: 0.7916 - accuracy: 0.6495 - val_loss: 0.9460 - val_accuracy: 0.5887\n",
      "Epoch 109/200\n",
      "142/142 [==============================] - ETA: 0s - loss: 0.7868 - accuracy: 0.6489\n",
      "Epoch 109: val_loss did not improve from 0.90068\n",
      "142/142 [==============================] - 1s 10ms/step - loss: 0.7868 - accuracy: 0.6489 - val_loss: 0.9433 - val_accuracy: 0.5742\n",
      "Epoch 110/200\n",
      "138/142 [============================>.] - ETA: 0s - loss: 0.7735 - accuracy: 0.6594\n",
      "Epoch 110: val_loss did not improve from 0.90068\n",
      "142/142 [==============================] - 1s 10ms/step - loss: 0.7737 - accuracy: 0.6599 - val_loss: 0.9250 - val_accuracy: 0.5959\n",
      "Epoch 111/200\n",
      "137/142 [===========================>..] - ETA: 0s - loss: 0.7890 - accuracy: 0.6542\n",
      "Epoch 111: val_loss did not improve from 0.90068\n",
      "142/142 [==============================] - 1s 10ms/step - loss: 0.7885 - accuracy: 0.6542 - val_loss: 0.9652 - val_accuracy: 0.5742\n",
      "Epoch 112/200\n",
      "137/142 [===========================>..] - ETA: 0s - loss: 0.7936 - accuracy: 0.6490\n",
      "Epoch 112: val_loss did not improve from 0.90068\n",
      "142/142 [==============================] - 2s 11ms/step - loss: 0.7925 - accuracy: 0.6497 - val_loss: 0.9256 - val_accuracy: 0.6021\n",
      "Epoch 113/200\n",
      "138/142 [============================>.] - ETA: 0s - loss: 0.7759 - accuracy: 0.6678\n",
      "Epoch 113: val_loss did not improve from 0.90068\n",
      "142/142 [==============================] - 1s 10ms/step - loss: 0.7757 - accuracy: 0.6687 - val_loss: 0.9279 - val_accuracy: 0.5876\n",
      "Epoch 114/200\n",
      "138/142 [============================>.] - ETA: 0s - loss: 0.7760 - accuracy: 0.6599\n",
      "Epoch 114: val_loss did not improve from 0.90068\n",
      "142/142 [==============================] - 1s 10ms/step - loss: 0.7760 - accuracy: 0.6599 - val_loss: 0.9433 - val_accuracy: 0.5938\n",
      "Epoch 115/200\n",
      "142/142 [==============================] - ETA: 0s - loss: 0.7771 - accuracy: 0.6641\n",
      "Epoch 115: val_loss did not improve from 0.90068\n",
      "142/142 [==============================] - 1s 10ms/step - loss: 0.7771 - accuracy: 0.6641 - val_loss: 0.9437 - val_accuracy: 0.5928\n",
      "Epoch 116/200\n",
      "137/142 [===========================>..] - ETA: 0s - loss: 0.7847 - accuracy: 0.6544\n",
      "Epoch 116: val_loss did not improve from 0.90068\n",
      "142/142 [==============================] - 1s 10ms/step - loss: 0.7852 - accuracy: 0.6553 - val_loss: 0.9143 - val_accuracy: 0.5907\n",
      "Epoch 117/200\n",
      "139/142 [============================>.] - ETA: 0s - loss: 0.7962 - accuracy: 0.6610\n",
      "Epoch 117: val_loss did not improve from 0.90068\n",
      "142/142 [==============================] - 1s 10ms/step - loss: 0.7958 - accuracy: 0.6603 - val_loss: 0.9168 - val_accuracy: 0.6041\n",
      "Epoch 118/200\n",
      "141/142 [============================>.] - ETA: 0s - loss: 0.7676 - accuracy: 0.6673\n",
      "Epoch 118: val_loss did not improve from 0.90068\n",
      "142/142 [==============================] - 1s 10ms/step - loss: 0.7675 - accuracy: 0.6670 - val_loss: 0.9245 - val_accuracy: 0.5887\n",
      "Epoch 119/200\n",
      "137/142 [===========================>..] - ETA: 0s - loss: 0.7843 - accuracy: 0.6565\n",
      "Epoch 119: val_loss did not improve from 0.90068\n",
      "142/142 [==============================] - 1s 10ms/step - loss: 0.7903 - accuracy: 0.6557 - val_loss: 0.9197 - val_accuracy: 0.5969\n",
      "Epoch 120/200\n",
      "141/142 [============================>.] - ETA: 0s - loss: 0.7732 - accuracy: 0.6656\n",
      "Epoch 120: val_loss did not improve from 0.90068\n",
      "142/142 [==============================] - 1s 10ms/step - loss: 0.7731 - accuracy: 0.6652 - val_loss: 0.9189 - val_accuracy: 0.5856\n",
      "Epoch 121/200\n",
      "137/142 [===========================>..] - ETA: 0s - loss: 0.7601 - accuracy: 0.6674\n",
      "Epoch 121: val_loss did not improve from 0.90068\n",
      "142/142 [==============================] - 1s 10ms/step - loss: 0.7593 - accuracy: 0.6683 - val_loss: 0.9509 - val_accuracy: 0.5897\n",
      "Epoch 122/200\n",
      "141/142 [============================>.] - ETA: 0s - loss: 0.7593 - accuracy: 0.6707\n",
      "Epoch 122: val_loss did not improve from 0.90068\n",
      "142/142 [==============================] - 1s 10ms/step - loss: 0.7589 - accuracy: 0.6709 - val_loss: 0.9463 - val_accuracy: 0.5948\n",
      "Epoch 123/200\n",
      "142/142 [==============================] - ETA: 0s - loss: 0.7719 - accuracy: 0.6672\n",
      "Epoch 123: val_loss did not improve from 0.90068\n",
      "142/142 [==============================] - 1s 9ms/step - loss: 0.7719 - accuracy: 0.6672 - val_loss: 0.9520 - val_accuracy: 0.5814\n",
      "Epoch 124/200\n",
      "140/142 [============================>.] - ETA: 0s - loss: 0.7575 - accuracy: 0.6625\n",
      "Epoch 124: val_loss did not improve from 0.90068\n",
      "142/142 [==============================] - 1s 9ms/step - loss: 0.7574 - accuracy: 0.6632 - val_loss: 0.9549 - val_accuracy: 0.5938\n",
      "Epoch 125/200\n",
      "142/142 [==============================] - ETA: 0s - loss: 0.7612 - accuracy: 0.6687\n",
      "Epoch 125: val_loss did not improve from 0.90068\n",
      "142/142 [==============================] - 1s 10ms/step - loss: 0.7612 - accuracy: 0.6687 - val_loss: 0.9460 - val_accuracy: 0.5835\n",
      "Epoch 126/200\n",
      "139/142 [============================>.] - ETA: 0s - loss: 0.7593 - accuracy: 0.6675\n",
      "Epoch 126: val_loss did not improve from 0.90068\n",
      "142/142 [==============================] - 1s 9ms/step - loss: 0.7614 - accuracy: 0.6670 - val_loss: 0.9402 - val_accuracy: 0.5825\n",
      "Epoch 127/200\n",
      "138/142 [============================>.] - ETA: 0s - loss: 0.7547 - accuracy: 0.6655\n",
      "Epoch 127: val_loss did not improve from 0.90068\n",
      "142/142 [==============================] - 1s 10ms/step - loss: 0.7535 - accuracy: 0.6661 - val_loss: 0.9384 - val_accuracy: 0.5804\n",
      "Epoch 128/200\n",
      "140/142 [============================>.] - ETA: 0s - loss: 0.7587 - accuracy: 0.6721\n",
      "Epoch 128: val_loss did not improve from 0.90068\n",
      "142/142 [==============================] - 1s 9ms/step - loss: 0.7568 - accuracy: 0.6729 - val_loss: 0.9732 - val_accuracy: 0.5876\n",
      "Epoch 129/200\n",
      "137/142 [===========================>..] - ETA: 0s - loss: 0.7582 - accuracy: 0.6752\n",
      "Epoch 129: val_loss did not improve from 0.90068\n",
      "142/142 [==============================] - 1s 10ms/step - loss: 0.7587 - accuracy: 0.6749 - val_loss: 0.9507 - val_accuracy: 0.5732\n",
      "Epoch 130/200\n",
      "141/142 [============================>.] - ETA: 0s - loss: 0.7547 - accuracy: 0.6722\n",
      "Epoch 130: val_loss did not improve from 0.90068\n",
      "142/142 [==============================] - 1s 9ms/step - loss: 0.7541 - accuracy: 0.6725 - val_loss: 0.9532 - val_accuracy: 0.5897\n",
      "Epoch 131/200\n",
      "142/142 [==============================] - ETA: 0s - loss: 0.7507 - accuracy: 0.6738\n",
      "Epoch 131: val_loss did not improve from 0.90068\n",
      "142/142 [==============================] - 2s 12ms/step - loss: 0.7507 - accuracy: 0.6738 - val_loss: 0.9485 - val_accuracy: 0.5876\n",
      "Epoch 132/200\n",
      "140/142 [============================>.] - ETA: 0s - loss: 0.7560 - accuracy: 0.6750\n",
      "Epoch 132: val_loss did not improve from 0.90068\n",
      "142/142 [==============================] - 1s 9ms/step - loss: 0.7568 - accuracy: 0.6742 - val_loss: 0.9764 - val_accuracy: 0.5670\n",
      "Epoch 133/200\n",
      "142/142 [==============================] - ETA: 0s - loss: 0.7568 - accuracy: 0.6676\n",
      "Epoch 133: val_loss did not improve from 0.90068\n",
      "142/142 [==============================] - 1s 10ms/step - loss: 0.7568 - accuracy: 0.6676 - val_loss: 0.9682 - val_accuracy: 0.5784\n",
      "Epoch 134/200\n",
      "137/142 [===========================>..] - ETA: 0s - loss: 0.7368 - accuracy: 0.6825\n",
      "Epoch 134: val_loss did not improve from 0.90068\n",
      "142/142 [==============================] - 1s 10ms/step - loss: 0.7362 - accuracy: 0.6833 - val_loss: 0.9687 - val_accuracy: 0.5938\n",
      "Epoch 135/200\n",
      "141/142 [============================>.] - ETA: 0s - loss: 0.7539 - accuracy: 0.6793\n",
      "Epoch 135: val_loss did not improve from 0.90068\n",
      "142/142 [==============================] - 1s 10ms/step - loss: 0.7541 - accuracy: 0.6791 - val_loss: 0.9930 - val_accuracy: 0.5794\n",
      "Epoch 136/200\n",
      "140/142 [============================>.] - ETA: 0s - loss: 0.7427 - accuracy: 0.6754\n",
      "Epoch 136: val_loss did not improve from 0.90068\n",
      "142/142 [==============================] - 1s 10ms/step - loss: 0.7434 - accuracy: 0.6754 - val_loss: 0.9676 - val_accuracy: 0.5845\n",
      "Epoch 137/200\n",
      "138/142 [============================>.] - ETA: 0s - loss: 0.7435 - accuracy: 0.6780\n",
      "Epoch 137: val_loss did not improve from 0.90068\n",
      "142/142 [==============================] - 1s 10ms/step - loss: 0.7397 - accuracy: 0.6784 - val_loss: 0.9674 - val_accuracy: 0.5701\n",
      "Epoch 138/200\n",
      "137/142 [===========================>..] - ETA: 0s - loss: 0.7255 - accuracy: 0.6843\n",
      "Epoch 138: val_loss did not improve from 0.90068\n",
      "142/142 [==============================] - 1s 10ms/step - loss: 0.7274 - accuracy: 0.6844 - val_loss: 0.9932 - val_accuracy: 0.5835\n",
      "Epoch 139/200\n",
      "139/142 [============================>.] - ETA: 0s - loss: 0.7476 - accuracy: 0.6749\n",
      "Epoch 139: val_loss did not improve from 0.90068\n",
      "142/142 [==============================] - 1s 10ms/step - loss: 0.7467 - accuracy: 0.6749 - val_loss: 0.9788 - val_accuracy: 0.5866\n",
      "Epoch 140/200\n",
      "137/142 [===========================>..] - ETA: 0s - loss: 0.7307 - accuracy: 0.6848\n",
      "Epoch 140: val_loss did not improve from 0.90068\n",
      "142/142 [==============================] - 1s 10ms/step - loss: 0.7307 - accuracy: 0.6842 - val_loss: 0.9812 - val_accuracy: 0.5680\n",
      "Epoch 141/200\n",
      "139/142 [============================>.] - ETA: 0s - loss: 0.7283 - accuracy: 0.6850\n",
      "Epoch 141: val_loss did not improve from 0.90068\n",
      "142/142 [==============================] - 1s 10ms/step - loss: 0.7308 - accuracy: 0.6837 - val_loss: 0.9969 - val_accuracy: 0.5959\n",
      "Epoch 142/200\n",
      "142/142 [==============================] - ETA: 0s - loss: 0.7336 - accuracy: 0.6862\n",
      "Epoch 142: val_loss did not improve from 0.90068\n",
      "142/142 [==============================] - 2s 11ms/step - loss: 0.7336 - accuracy: 0.6862 - val_loss: 1.0214 - val_accuracy: 0.5639\n",
      "Epoch 143/200\n",
      "140/142 [============================>.] - ETA: 0s - loss: 0.7384 - accuracy: 0.6897\n",
      "Epoch 143: val_loss did not improve from 0.90068\n",
      "142/142 [==============================] - 1s 10ms/step - loss: 0.7367 - accuracy: 0.6908 - val_loss: 0.9894 - val_accuracy: 0.5773\n",
      "Epoch 144/200\n",
      "142/142 [==============================] - ETA: 0s - loss: 0.7196 - accuracy: 0.6972\n",
      "Epoch 144: val_loss did not improve from 0.90068\n",
      "142/142 [==============================] - 1s 10ms/step - loss: 0.7196 - accuracy: 0.6972 - val_loss: 0.9584 - val_accuracy: 0.5804\n",
      "Epoch 145/200\n",
      "137/142 [===========================>..] - ETA: 0s - loss: 0.7328 - accuracy: 0.6896\n",
      "Epoch 145: val_loss did not improve from 0.90068\n",
      "142/142 [==============================] - 1s 10ms/step - loss: 0.7305 - accuracy: 0.6908 - val_loss: 0.9581 - val_accuracy: 0.5753\n",
      "Epoch 146/200\n",
      "137/142 [===========================>..] - ETA: 0s - loss: 0.7163 - accuracy: 0.6966\n",
      "Epoch 146: val_loss did not improve from 0.90068\n",
      "142/142 [==============================] - 1s 9ms/step - loss: 0.7184 - accuracy: 0.6952 - val_loss: 0.9770 - val_accuracy: 0.5907\n",
      "Epoch 147/200\n",
      "139/142 [============================>.] - ETA: 0s - loss: 0.7276 - accuracy: 0.6837\n",
      "Epoch 147: val_loss did not improve from 0.90068\n",
      "142/142 [==============================] - 1s 9ms/step - loss: 0.7288 - accuracy: 0.6835 - val_loss: 0.9805 - val_accuracy: 0.5773\n",
      "Epoch 148/200\n",
      "142/142 [==============================] - ETA: 0s - loss: 0.7221 - accuracy: 0.6879\n",
      "Epoch 148: val_loss did not improve from 0.90068\n",
      "142/142 [==============================] - 1s 9ms/step - loss: 0.7221 - accuracy: 0.6879 - val_loss: 0.9840 - val_accuracy: 0.5804\n",
      "Epoch 149/200\n",
      "136/142 [===========================>..] - ETA: 0s - loss: 0.7232 - accuracy: 0.6824\n",
      "Epoch 149: val_loss did not improve from 0.90068\n",
      "142/142 [==============================] - 1s 9ms/step - loss: 0.7239 - accuracy: 0.6831 - val_loss: 0.9924 - val_accuracy: 0.5742\n",
      "Epoch 150/200\n",
      "137/142 [===========================>..] - ETA: 0s - loss: 0.7181 - accuracy: 0.6937\n",
      "Epoch 150: val_loss did not improve from 0.90068\n",
      "142/142 [==============================] - 1s 9ms/step - loss: 0.7182 - accuracy: 0.6943 - val_loss: 0.9639 - val_accuracy: 0.5660\n",
      "Epoch 151/200\n",
      "140/142 [============================>.] - ETA: 0s - loss: 0.7172 - accuracy: 0.6891\n",
      "Epoch 151: val_loss did not improve from 0.90068\n",
      "142/142 [==============================] - 2s 11ms/step - loss: 0.7166 - accuracy: 0.6888 - val_loss: 1.0222 - val_accuracy: 0.5876\n",
      "Epoch 152/200\n",
      "140/142 [============================>.] - ETA: 0s - loss: 0.7133 - accuracy: 0.6969\n",
      "Epoch 152: val_loss did not improve from 0.90068\n",
      "142/142 [==============================] - 1s 9ms/step - loss: 0.7108 - accuracy: 0.6981 - val_loss: 1.0056 - val_accuracy: 0.5887\n",
      "Epoch 153/200\n",
      "136/142 [===========================>..] - ETA: 0s - loss: 0.7145 - accuracy: 0.6960\n",
      "Epoch 153: val_loss did not improve from 0.90068\n",
      "142/142 [==============================] - 1s 10ms/step - loss: 0.7157 - accuracy: 0.6943 - val_loss: 1.0088 - val_accuracy: 0.5680\n",
      "Epoch 154/200\n",
      "140/142 [============================>.] - ETA: 0s - loss: 0.7045 - accuracy: 0.7018\n",
      "Epoch 154: val_loss did not improve from 0.90068\n",
      "142/142 [==============================] - 1s 9ms/step - loss: 0.7037 - accuracy: 0.7023 - val_loss: 1.0407 - val_accuracy: 0.5588\n",
      "Epoch 155/200\n",
      "141/142 [============================>.] - ETA: 0s - loss: 0.6906 - accuracy: 0.7050\n",
      "Epoch 155: val_loss did not improve from 0.90068\n",
      "142/142 [==============================] - 1s 9ms/step - loss: 0.6910 - accuracy: 0.7045 - val_loss: 1.0151 - val_accuracy: 0.5784\n",
      "Epoch 156/200\n",
      "141/142 [============================>.] - ETA: 0s - loss: 0.6997 - accuracy: 0.6950\n",
      "Epoch 156: val_loss did not improve from 0.90068\n",
      "142/142 [==============================] - 1s 9ms/step - loss: 0.6999 - accuracy: 0.6948 - val_loss: 1.0551 - val_accuracy: 0.5639\n",
      "Epoch 157/200\n",
      "140/142 [============================>.] - ETA: 0s - loss: 0.6948 - accuracy: 0.7109\n",
      "Epoch 157: val_loss did not improve from 0.90068\n",
      "142/142 [==============================] - 1s 11ms/step - loss: 0.6956 - accuracy: 0.7107 - val_loss: 1.0062 - val_accuracy: 0.5814\n",
      "Epoch 158/200\n",
      "139/142 [============================>.] - ETA: 0s - loss: 0.6981 - accuracy: 0.7041\n",
      "Epoch 158: val_loss did not improve from 0.90068\n",
      "142/142 [==============================] - 1s 10ms/step - loss: 0.6984 - accuracy: 0.7038 - val_loss: 0.9850 - val_accuracy: 0.5825\n",
      "Epoch 159/200\n",
      "137/142 [===========================>..] - ETA: 0s - loss: 0.7037 - accuracy: 0.6896\n",
      "Epoch 159: val_loss did not improve from 0.90068\n",
      "142/142 [==============================] - 1s 10ms/step - loss: 0.7034 - accuracy: 0.6904 - val_loss: 1.0414 - val_accuracy: 0.5825\n",
      "Epoch 160/200\n",
      "137/142 [===========================>..] - ETA: 0s - loss: 0.6935 - accuracy: 0.7076\n",
      "Epoch 160: val_loss did not improve from 0.90068\n",
      "142/142 [==============================] - 1s 10ms/step - loss: 0.6942 - accuracy: 0.7063 - val_loss: 1.0042 - val_accuracy: 0.5784\n",
      "Epoch 161/200\n",
      "138/142 [============================>.] - ETA: 0s - loss: 0.6936 - accuracy: 0.7047\n",
      "Epoch 161: val_loss did not improve from 0.90068\n",
      "142/142 [==============================] - 1s 9ms/step - loss: 0.6931 - accuracy: 0.7061 - val_loss: 1.0417 - val_accuracy: 0.5660\n",
      "Epoch 162/200\n",
      "137/142 [===========================>..] - ETA: 0s - loss: 0.7204 - accuracy: 0.6930\n",
      "Epoch 162: val_loss did not improve from 0.90068\n",
      "142/142 [==============================] - 1s 9ms/step - loss: 0.7207 - accuracy: 0.6928 - val_loss: 0.9982 - val_accuracy: 0.5845\n",
      "Epoch 163/200\n",
      "138/142 [============================>.] - ETA: 0s - loss: 0.6987 - accuracy: 0.7065\n",
      "Epoch 163: val_loss did not improve from 0.90068\n",
      "142/142 [==============================] - 1s 10ms/step - loss: 0.6996 - accuracy: 0.7045 - val_loss: 1.0361 - val_accuracy: 0.5784\n",
      "Epoch 164/200\n",
      "136/142 [===========================>..] - ETA: 0s - loss: 0.6834 - accuracy: 0.7125\n",
      "Epoch 164: val_loss did not improve from 0.90068\n",
      "142/142 [==============================] - 1s 9ms/step - loss: 0.6842 - accuracy: 0.7096 - val_loss: 1.0111 - val_accuracy: 0.5763\n",
      "Epoch 165/200\n",
      "136/142 [===========================>..] - ETA: 0s - loss: 0.6780 - accuracy: 0.7121\n",
      "Epoch 165: val_loss did not improve from 0.90068\n",
      "142/142 [==============================] - 1s 9ms/step - loss: 0.6787 - accuracy: 0.7118 - val_loss: 1.0450 - val_accuracy: 0.5804\n",
      "Epoch 166/200\n",
      "142/142 [==============================] - ETA: 0s - loss: 0.6971 - accuracy: 0.6963\n",
      "Epoch 166: val_loss did not improve from 0.90068\n",
      "142/142 [==============================] - 1s 9ms/step - loss: 0.6971 - accuracy: 0.6963 - val_loss: 1.0022 - val_accuracy: 0.5845\n",
      "Epoch 167/200\n",
      "139/142 [============================>.] - ETA: 0s - loss: 0.6932 - accuracy: 0.7019\n",
      "Epoch 167: val_loss did not improve from 0.90068\n",
      "142/142 [==============================] - 1s 10ms/step - loss: 0.6929 - accuracy: 0.7027 - val_loss: 1.0026 - val_accuracy: 0.5845\n",
      "Epoch 168/200\n",
      "141/142 [============================>.] - ETA: 0s - loss: 0.6879 - accuracy: 0.7059\n",
      "Epoch 168: val_loss did not improve from 0.90068\n",
      "142/142 [==============================] - 1s 10ms/step - loss: 0.6882 - accuracy: 0.7056 - val_loss: 1.0117 - val_accuracy: 0.5887\n",
      "Epoch 169/200\n",
      "141/142 [============================>.] - ETA: 0s - loss: 0.6774 - accuracy: 0.7123\n",
      "Epoch 169: val_loss did not improve from 0.90068\n",
      "142/142 [==============================] - 1s 9ms/step - loss: 0.6781 - accuracy: 0.7120 - val_loss: 1.0453 - val_accuracy: 0.5938\n",
      "Epoch 170/200\n",
      "140/142 [============================>.] - ETA: 0s - loss: 0.6934 - accuracy: 0.7036\n",
      "Epoch 170: val_loss did not improve from 0.90068\n",
      "142/142 [==============================] - 1s 10ms/step - loss: 0.6921 - accuracy: 0.7045 - val_loss: 0.9972 - val_accuracy: 0.5670\n",
      "Epoch 171/200\n",
      "141/142 [============================>.] - ETA: 0s - loss: 0.6729 - accuracy: 0.7170\n",
      "Epoch 171: val_loss did not improve from 0.90068\n",
      "142/142 [==============================] - 1s 10ms/step - loss: 0.6729 - accuracy: 0.7173 - val_loss: 1.0554 - val_accuracy: 0.5814\n",
      "Epoch 172/200\n",
      "138/142 [============================>.] - ETA: 0s - loss: 0.6715 - accuracy: 0.7169\n",
      "Epoch 172: val_loss did not improve from 0.90068\n",
      "142/142 [==============================] - 1s 9ms/step - loss: 0.6739 - accuracy: 0.7151 - val_loss: 1.0430 - val_accuracy: 0.5887\n",
      "Epoch 173/200\n",
      "139/142 [============================>.] - ETA: 0s - loss: 0.6780 - accuracy: 0.7089\n",
      "Epoch 173: val_loss did not improve from 0.90068\n",
      "142/142 [==============================] - 1s 10ms/step - loss: 0.6812 - accuracy: 0.7074 - val_loss: 1.0382 - val_accuracy: 0.5670\n",
      "Epoch 174/200\n",
      "137/142 [===========================>..] - ETA: 0s - loss: 0.6891 - accuracy: 0.7062\n",
      "Epoch 174: val_loss did not improve from 0.90068\n",
      "142/142 [==============================] - 1s 9ms/step - loss: 0.6881 - accuracy: 0.7058 - val_loss: 1.0445 - val_accuracy: 0.5887\n",
      "Epoch 175/200\n",
      "139/142 [============================>.] - ETA: 0s - loss: 0.6909 - accuracy: 0.7057\n",
      "Epoch 175: val_loss did not improve from 0.90068\n",
      "142/142 [==============================] - 1s 9ms/step - loss: 0.6900 - accuracy: 0.7065 - val_loss: 1.0347 - val_accuracy: 0.5784\n",
      "Epoch 176/200\n",
      "136/142 [===========================>..] - ETA: 0s - loss: 0.6863 - accuracy: 0.7100\n",
      "Epoch 176: val_loss did not improve from 0.90068\n",
      "142/142 [==============================] - 1s 9ms/step - loss: 0.6862 - accuracy: 0.7100 - val_loss: 1.0839 - val_accuracy: 0.5742\n",
      "Epoch 177/200\n",
      "141/142 [============================>.] - ETA: 0s - loss: 0.6727 - accuracy: 0.7163\n",
      "Epoch 177: val_loss did not improve from 0.90068\n",
      "142/142 [==============================] - 1s 9ms/step - loss: 0.6734 - accuracy: 0.7155 - val_loss: 1.0795 - val_accuracy: 0.5742\n",
      "Epoch 178/200\n",
      "137/142 [===========================>..] - ETA: 0s - loss: 0.6684 - accuracy: 0.7213\n",
      "Epoch 178: val_loss did not improve from 0.90068\n",
      "142/142 [==============================] - 1s 9ms/step - loss: 0.6690 - accuracy: 0.7211 - val_loss: 1.1212 - val_accuracy: 0.5887\n",
      "Epoch 179/200\n",
      "140/142 [============================>.] - ETA: 0s - loss: 0.6618 - accuracy: 0.7188\n",
      "Epoch 179: val_loss did not improve from 0.90068\n",
      "142/142 [==============================] - 1s 10ms/step - loss: 0.6617 - accuracy: 0.7189 - val_loss: 1.0777 - val_accuracy: 0.5763\n",
      "Epoch 180/200\n",
      "137/142 [===========================>..] - ETA: 0s - loss: 0.6704 - accuracy: 0.7142\n",
      "Epoch 180: val_loss did not improve from 0.90068\n",
      "142/142 [==============================] - 1s 9ms/step - loss: 0.6713 - accuracy: 0.7140 - val_loss: 1.0389 - val_accuracy: 0.5825\n",
      "Epoch 181/200\n",
      "140/142 [============================>.] - ETA: 0s - loss: 0.6690 - accuracy: 0.7196\n",
      "Epoch 181: val_loss did not improve from 0.90068\n",
      "142/142 [==============================] - 1s 9ms/step - loss: 0.6685 - accuracy: 0.7195 - val_loss: 1.0876 - val_accuracy: 0.5763\n",
      "Epoch 182/200\n",
      "140/142 [============================>.] - ETA: 0s - loss: 0.6733 - accuracy: 0.7179\n",
      "Epoch 182: val_loss did not improve from 0.90068\n",
      "142/142 [==============================] - 1s 10ms/step - loss: 0.6736 - accuracy: 0.7173 - val_loss: 1.0554 - val_accuracy: 0.5876\n",
      "Epoch 183/200\n",
      "141/142 [============================>.] - ETA: 0s - loss: 0.6682 - accuracy: 0.7241\n",
      "Epoch 183: val_loss did not improve from 0.90068\n",
      "142/142 [==============================] - 1s 10ms/step - loss: 0.6672 - accuracy: 0.7248 - val_loss: 1.0168 - val_accuracy: 0.5866\n",
      "Epoch 184/200\n",
      "142/142 [==============================] - ETA: 0s - loss: 0.6587 - accuracy: 0.7231\n",
      "Epoch 184: val_loss did not improve from 0.90068\n",
      "142/142 [==============================] - 1s 9ms/step - loss: 0.6587 - accuracy: 0.7231 - val_loss: 1.1082 - val_accuracy: 0.5763\n",
      "Epoch 185/200\n",
      "139/142 [============================>.] - ETA: 0s - loss: 0.6688 - accuracy: 0.7156\n",
      "Epoch 185: val_loss did not improve from 0.90068\n",
      "142/142 [==============================] - 1s 10ms/step - loss: 0.6681 - accuracy: 0.7158 - val_loss: 1.0729 - val_accuracy: 0.5753\n",
      "Epoch 186/200\n",
      "142/142 [==============================] - ETA: 0s - loss: 0.6757 - accuracy: 0.7206\n",
      "Epoch 186: val_loss did not improve from 0.90068\n",
      "142/142 [==============================] - 1s 10ms/step - loss: 0.6757 - accuracy: 0.7206 - val_loss: 1.0304 - val_accuracy: 0.5825\n",
      "Epoch 187/200\n",
      "141/142 [============================>.] - ETA: 0s - loss: 0.6658 - accuracy: 0.7203\n",
      "Epoch 187: val_loss did not improve from 0.90068\n",
      "142/142 [==============================] - 1s 10ms/step - loss: 0.6664 - accuracy: 0.7195 - val_loss: 1.0261 - val_accuracy: 0.5773\n",
      "Epoch 188/200\n",
      "137/142 [===========================>..] - ETA: 0s - loss: 0.6683 - accuracy: 0.7156\n",
      "Epoch 188: val_loss did not improve from 0.90068\n",
      "142/142 [==============================] - 1s 9ms/step - loss: 0.6677 - accuracy: 0.7153 - val_loss: 1.0153 - val_accuracy: 0.5948\n",
      "Epoch 189/200\n",
      "142/142 [==============================] - ETA: 0s - loss: 0.6859 - accuracy: 0.7186\n",
      "Epoch 189: val_loss did not improve from 0.90068\n",
      "142/142 [==============================] - 1s 9ms/step - loss: 0.6859 - accuracy: 0.7186 - val_loss: 1.0786 - val_accuracy: 0.5907\n",
      "Epoch 190/200\n",
      "142/142 [==============================] - ETA: 0s - loss: 0.6912 - accuracy: 0.7107\n",
      "Epoch 190: val_loss did not improve from 0.90068\n",
      "142/142 [==============================] - 1s 9ms/step - loss: 0.6912 - accuracy: 0.7107 - val_loss: 1.0898 - val_accuracy: 0.5794\n",
      "Epoch 191/200\n",
      "140/142 [============================>.] - ETA: 0s - loss: 0.6641 - accuracy: 0.7176\n",
      "Epoch 191: val_loss did not improve from 0.90068\n",
      "142/142 [==============================] - 1s 9ms/step - loss: 0.6652 - accuracy: 0.7173 - val_loss: 1.0440 - val_accuracy: 0.5639\n",
      "Epoch 192/200\n",
      "139/142 [============================>.] - ETA: 0s - loss: 0.6363 - accuracy: 0.7327\n",
      "Epoch 192: val_loss did not improve from 0.90068\n",
      "142/142 [==============================] - 1s 9ms/step - loss: 0.6389 - accuracy: 0.7317 - val_loss: 1.1638 - val_accuracy: 0.5784\n",
      "Epoch 193/200\n",
      "136/142 [===========================>..] - ETA: 0s - loss: 0.6676 - accuracy: 0.7245\n",
      "Epoch 193: val_loss did not improve from 0.90068\n",
      "142/142 [==============================] - 1s 10ms/step - loss: 0.6710 - accuracy: 0.7231 - val_loss: 1.1173 - val_accuracy: 0.5814\n",
      "Epoch 194/200\n",
      "140/142 [============================>.] - ETA: 0s - loss: 0.6608 - accuracy: 0.7210\n",
      "Epoch 194: val_loss did not improve from 0.90068\n",
      "142/142 [==============================] - 1s 10ms/step - loss: 0.6622 - accuracy: 0.7200 - val_loss: 1.0779 - val_accuracy: 0.5825\n",
      "Epoch 195/200\n",
      "142/142 [==============================] - ETA: 0s - loss: 0.6598 - accuracy: 0.7184\n",
      "Epoch 195: val_loss did not improve from 0.90068\n",
      "142/142 [==============================] - 1s 10ms/step - loss: 0.6598 - accuracy: 0.7184 - val_loss: 1.0224 - val_accuracy: 0.5784\n",
      "Epoch 196/200\n",
      "139/142 [============================>.] - ETA: 0s - loss: 0.6500 - accuracy: 0.7282\n",
      "Epoch 196: val_loss did not improve from 0.90068\n",
      "142/142 [==============================] - 1s 9ms/step - loss: 0.6529 - accuracy: 0.7268 - val_loss: 1.0440 - val_accuracy: 0.5825\n",
      "Epoch 197/200\n",
      "141/142 [============================>.] - ETA: 0s - loss: 0.6477 - accuracy: 0.7391\n",
      "Epoch 197: val_loss did not improve from 0.90068\n",
      "142/142 [==============================] - 1s 10ms/step - loss: 0.6479 - accuracy: 0.7387 - val_loss: 1.0547 - val_accuracy: 0.5794\n",
      "Epoch 198/200\n",
      "137/142 [===========================>..] - ETA: 0s - loss: 0.6484 - accuracy: 0.7322\n",
      "Epoch 198: val_loss did not improve from 0.90068\n",
      "142/142 [==============================] - 1s 9ms/step - loss: 0.6486 - accuracy: 0.7312 - val_loss: 1.1060 - val_accuracy: 0.5814\n",
      "Epoch 199/200\n",
      "141/142 [============================>.] - ETA: 0s - loss: 0.6525 - accuracy: 0.7247\n",
      "Epoch 199: val_loss did not improve from 0.90068\n",
      "142/142 [==============================] - 1s 10ms/step - loss: 0.6519 - accuracy: 0.7250 - val_loss: 1.1002 - val_accuracy: 0.5670\n",
      "Epoch 200/200\n",
      "139/142 [============================>.] - ETA: 0s - loss: 0.6653 - accuracy: 0.7196\n",
      "Epoch 200: val_loss did not improve from 0.90068\n",
      "142/142 [==============================] - 1s 9ms/step - loss: 0.6638 - accuracy: 0.7204 - val_loss: 1.0424 - val_accuracy: 0.5711\n",
      "Training completed in time:  0:04:41.799951\n"
     ]
    }
   ],
   "source": [
    "# Train the model\n",
    "from tensorflow.keras.callbacks import ModelCheckpoint\n",
    "from datetime import datetime \n",
    "\n",
    "num_epochs = 200\n",
    "num_batch_size = 32\n",
    "\n",
    "checkpointer = ModelCheckpoint(filepath='audio_classification_v1.0.hdf5', verbose=1, save_best_only=True)\n",
    "start = datetime.now()\n",
    "\n",
    "model.fit(X_train, y_train, batch_size=num_batch_size, epochs=num_epochs, validation_data=(X_val, y_val), callbacks=[checkpointer], verbose=1)\n",
    "\n",
    "\n",
    "duration = datetime.now() - start\n",
    "print(\"Training completed in time: \", duration)"
   ]
  },
  {
   "cell_type": "code",
   "execution_count": 582,
   "metadata": {},
   "outputs": [
    {
     "name": "stdout",
     "output_type": "stream",
     "text": [
      "0.5653964877128601\n"
     ]
    }
   ],
   "source": [
    "# Check accuracy\n",
    "test_accuracy=model.evaluate(X_test,y_test,verbose=0)\n",
    "print(test_accuracy[1])"
   ]
  },
  {
   "cell_type": "code",
   "execution_count": 583,
   "metadata": {},
   "outputs": [
    {
     "data": {
      "text/plain": [
       "array([-4.63172760e+02,  4.47161484e+01, -1.40991993e+01,  1.42216361e+00,\n",
       "       -2.24697437e+01, -4.97956753e+00, -1.35839357e+01,  1.79930508e+00,\n",
       "       -1.47846127e+01, -7.46276522e+00,  4.28938180e-01, -2.80062103e+00,\n",
       "       -5.37157774e-01, -5.47485542e+00,  5.18402147e+00, -4.19928789e+00,\n",
       "       -1.52063429e+00, -2.82611704e+00, -3.32008028e+00, -1.51369846e+00,\n",
       "       -2.39291596e+00,  2.22613797e-01, -2.47722673e+00,  9.85216379e-01,\n",
       "        1.37508857e+00,  4.33293045e-01, -5.10542512e-01, -1.18397012e-01,\n",
       "        2.54271150e-01,  5.81427574e-01,  1.18769622e+00,  2.48495603e+00,\n",
       "        2.92968780e-01, -1.69974875e+00,  8.46230865e-01,  7.19334483e-01,\n",
       "        2.35539958e-01,  7.07976758e-01,  2.26236835e-01, -1.10791993e+00,\n",
       "        1.10408652e+00,  9.15231109e-01, -6.65493846e-01,  8.51423740e-01,\n",
       "        5.87742984e-01,  4.53982472e-01,  1.25110376e+00,  5.06664574e-01,\n",
       "        1.59177348e-01, -5.27964719e-02, -1.72388524e-01, -2.83571221e-02,\n",
       "       -7.60042667e-01,  9.71054211e-02, -1.24804415e-01, -5.61520517e-01,\n",
       "       -4.36663449e-01, -3.08437556e-01, -9.71963108e-02, -5.82434535e-01,\n",
       "       -3.33933830e-01, -1.86881796e-01, -4.99471933e-01, -4.18240130e-01,\n",
       "        3.10254276e-01,  2.52652705e-01, -1.91660404e-01, -4.38350998e-02,\n",
       "        4.35937405e-01, -3.75832729e-02,  2.86630124e-01,  6.34634018e-01,\n",
       "       -2.05009326e-01, -3.15945923e-01,  8.72273594e-02,  4.45660859e-01,\n",
       "       -2.80779362e-01, -1.09060585e-01,  2.63923496e-01, -8.65933299e-02,\n",
       "        2.23123327e-01,  2.99602091e-01, -4.09217924e-01, -2.20824480e-01,\n",
       "        3.61477792e-01, -1.23001397e-01, -2.18671560e-01,  7.87723586e-02,\n",
       "       -1.92151651e-01, -6.79389983e-02,  1.71547756e-01,  4.01449299e+00,\n",
       "        3.18825579e+00,  3.82413626e+00,  5.70132494e+00,  2.21992469e+00,\n",
       "        9.81580138e-01,  5.96663117e-01,  4.14354712e-01,  4.30404216e-01,\n",
       "        3.10417682e-01,  1.54291779e-01,  9.59140807e-02,  3.29602659e-02,\n",
       "        3.66170853e-02,  7.72480741e-02,  1.25480607e-01,  2.38517955e-01,\n",
       "        8.70385319e-02,  4.69441861e-02,  2.39669904e-02,  2.99653411e-02,\n",
       "        1.12905456e-02,  1.07592447e-02,  2.55325902e-02,  2.76039131e-02,\n",
       "        7.55882403e-03,  3.24653520e-04,  5.36590335e-07,  2.67273137e-09],\n",
       "      dtype=float32)"
      ]
     },
     "execution_count": 583,
     "metadata": {},
     "output_type": "execute_result"
    }
   ],
   "source": [
    "X_test[1]"
   ]
  },
  {
   "cell_type": "code",
   "execution_count": 584,
   "metadata": {},
   "outputs": [
    {
     "name": "stdout",
     "output_type": "stream",
     "text": [
      "31/31 [==============================] - 0s 4ms/step\n"
     ]
    },
    {
     "data": {
      "text/plain": [
       "array([[0.03725792, 0.81019473, 0.15254728],\n",
       "       [0.20250279, 0.1740629 , 0.6234343 ],\n",
       "       [0.05221378, 0.7361179 , 0.2116683 ],\n",
       "       ...,\n",
       "       [0.16834117, 0.33441967, 0.49723917],\n",
       "       [0.04028261, 0.38442656, 0.57529074],\n",
       "       [0.01955053, 0.88350457, 0.09694491]], dtype=float32)"
      ]
     },
     "execution_count": 584,
     "metadata": {},
     "output_type": "execute_result"
    }
   ],
   "source": [
    "model.predict(X_test)"
   ]
  },
  {
   "cell_type": "code",
   "execution_count": null,
   "metadata": {},
   "outputs": [],
   "source": []
  },
  {
   "cell_type": "code",
   "execution_count": null,
   "metadata": {},
   "outputs": [],
   "source": [
    "# BUILD A CNN MODEL"
   ]
  },
  {
   "cell_type": "code",
   "execution_count": null,
   "metadata": {},
   "outputs": [],
   "source": [
    "# Preprocess the data to match proper input shape for CNN"
   ]
  },
  {
   "cell_type": "code",
   "execution_count": null,
   "metadata": {},
   "outputs": [],
   "source": [
    "# Define the Model"
   ]
  },
  {
   "cell_type": "code",
   "execution_count": null,
   "metadata": {},
   "outputs": [],
   "source": [
    "# Compile the model with loss and optimizer"
   ]
  },
  {
   "cell_type": "code",
   "execution_count": null,
   "metadata": {},
   "outputs": [],
   "source": [
    "# Train the model"
   ]
  },
  {
   "cell_type": "code",
   "execution_count": null,
   "metadata": {},
   "outputs": [],
   "source": [
    "# Check the accuracy score"
   ]
  },
  {
   "cell_type": "code",
   "execution_count": null,
   "metadata": {},
   "outputs": [],
   "source": []
  },
  {
   "cell_type": "code",
   "execution_count": null,
   "metadata": {},
   "outputs": [],
   "source": [
    "# BUILD A LSTM MODEL"
   ]
  },
  {
   "cell_type": "code",
   "execution_count": null,
   "metadata": {},
   "outputs": [],
   "source": [
    "# Preprocess the data to match proper input shape for LSTM"
   ]
  },
  {
   "cell_type": "code",
   "execution_count": null,
   "metadata": {},
   "outputs": [],
   "source": [
    "# Define the Model"
   ]
  },
  {
   "cell_type": "code",
   "execution_count": null,
   "metadata": {},
   "outputs": [],
   "source": [
    "# Compile the model with loss and optimizer\n"
   ]
  },
  {
   "cell_type": "code",
   "execution_count": null,
   "metadata": {},
   "outputs": [],
   "source": [
    "# Train the model"
   ]
  },
  {
   "cell_type": "code",
   "execution_count": null,
   "metadata": {},
   "outputs": [],
   "source": [
    "# Check the accuracy score\n"
   ]
  },
  {
   "cell_type": "code",
   "execution_count": null,
   "metadata": {},
   "outputs": [],
   "source": []
  },
  {
   "cell_type": "code",
   "execution_count": null,
   "metadata": {},
   "outputs": [],
   "source": []
  }
 ],
 "metadata": {
  "kernelspec": {
   "display_name": "gendev",
   "language": "python",
   "name": "python3"
  },
  "language_info": {
   "codemirror_mode": {
    "name": "ipython",
    "version": 3
   },
   "file_extension": ".py",
   "mimetype": "text/x-python",
   "name": "python",
   "nbconvert_exporter": "python",
   "pygments_lexer": "ipython3",
   "version": "3.8.13"
  },
  "orig_nbformat": 4
 },
 "nbformat": 4,
 "nbformat_minor": 2
}
